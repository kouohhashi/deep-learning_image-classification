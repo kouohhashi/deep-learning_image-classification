{
 "cells": [
  {
   "cell_type": "markdown",
   "metadata": {
    "collapsed": true,
    "deletable": true,
    "editable": true
   },
   "source": [
    "# Image Classification\n",
    "In this project, you'll classify images from the [CIFAR-10 dataset](https://www.cs.toronto.edu/~kriz/cifar.html).  The dataset consists of airplanes, dogs, cats, and other objects. You'll preprocess the images, then train a convolutional neural network on all the samples. The images need to be normalized and the labels need to be one-hot encoded.  You'll get to apply what you learned and build a convolutional, max pooling, dropout, and fully connected layers.  At the end, you'll get to see your neural network's predictions on the sample images.\n",
    "## Get the Data\n",
    "Run the following cell to download the [CIFAR-10 dataset for python](https://www.cs.toronto.edu/~kriz/cifar-10-python.tar.gz)."
   ]
  },
  {
   "cell_type": "code",
   "execution_count": 1,
   "metadata": {
    "collapsed": false,
    "deletable": true,
    "editable": true
   },
   "outputs": [
    {
     "name": "stdout",
     "output_type": "stream",
     "text": [
      "All files found!\n"
     ]
    }
   ],
   "source": [
    "\"\"\"\n",
    "DON'T MODIFY ANYTHING IN THIS CELL THAT IS BELOW THIS LINE\n",
    "\"\"\"\n",
    "from urllib.request import urlretrieve\n",
    "from os.path import isfile, isdir\n",
    "from tqdm import tqdm\n",
    "import problem_unittests as tests\n",
    "import tarfile\n",
    "\n",
    "cifar10_dataset_folder_path = 'cifar-10-batches-py'\n",
    "\n",
    "class DLProgress(tqdm):\n",
    "    last_block = 0\n",
    "\n",
    "    def hook(self, block_num=1, block_size=1, total_size=None):\n",
    "        self.total = total_size\n",
    "        self.update((block_num - self.last_block) * block_size)\n",
    "        self.last_block = block_num\n",
    "\n",
    "if not isfile('cifar-10-python.tar.gz'):\n",
    "    with DLProgress(unit='B', unit_scale=True, miniters=1, desc='CIFAR-10 Dataset') as pbar:\n",
    "        urlretrieve(\n",
    "            'https://www.cs.toronto.edu/~kriz/cifar-10-python.tar.gz',\n",
    "            'cifar-10-python.tar.gz',\n",
    "            pbar.hook)\n",
    "\n",
    "if not isdir(cifar10_dataset_folder_path):\n",
    "    with tarfile.open('cifar-10-python.tar.gz') as tar:\n",
    "        tar.extractall()\n",
    "        tar.close()\n",
    "\n",
    "\n",
    "tests.test_folder_path(cifar10_dataset_folder_path)"
   ]
  },
  {
   "cell_type": "markdown",
   "metadata": {
    "deletable": true,
    "editable": true
   },
   "source": [
    "## Explore the Data\n",
    "The dataset is broken into batches to prevent your machine from running out of memory.  The CIFAR-10 dataset consists of 5 batches, named `data_batch_1`, `data_batch_2`, etc.. Each batch contains the labels and images that are one of the following:\n",
    "* airplane\n",
    "* automobile\n",
    "* bird\n",
    "* cat\n",
    "* deer\n",
    "* dog\n",
    "* frog\n",
    "* horse\n",
    "* ship\n",
    "* truck\n",
    "\n",
    "Understanding a dataset is part of making predictions on the data.  Play around with the code cell below by changing the `batch_id` and `sample_id`. The `batch_id` is the id for a batch (1-5). The `sample_id` is the id for a image and label pair in the batch.\n",
    "\n",
    "Ask yourself \"What are all possible labels?\", \"What is the range of values for the image data?\", \"Are the labels in order or random?\".  Answers to questions like these will help you preprocess the data and end up with better predictions."
   ]
  },
  {
   "cell_type": "code",
   "execution_count": 2,
   "metadata": {
    "collapsed": false,
    "deletable": true,
    "editable": true
   },
   "outputs": [
    {
     "name": "stdout",
     "output_type": "stream",
     "text": [
      "\n",
      "Stats of batch 2:\n",
      "Samples: 10000\n",
      "Label Counts: {0: 984, 1: 1007, 2: 1010, 3: 995, 4: 1010, 5: 988, 6: 1008, 7: 1026, 8: 987, 9: 985}\n",
      "First 20 Labels: [1, 6, 6, 8, 8, 3, 4, 6, 0, 6, 0, 3, 6, 6, 5, 4, 8, 3, 2, 6]\n",
      "\n",
      "Example of Image 29:\n",
      "Image - Min Value: 4 Max Value: 248\n",
      "Image - Shape: (32, 32, 3)\n",
      "Label - Label Id: 6 Name: frog\n"
     ]
    },
    {
     "data": {
      "image/png": "[encoded data removed]",
      "text/plain": [
       "<matplotlib.figure.Figure at 0x7fa17828be48>"
      ]
     },
     "metadata": {
      "image/png": {
       "height": 250,
       "width": 253
      }
     },
     "output_type": "display_data"
    }
   ],
   "source": [
    "%matplotlib inline\n",
    "%config InlineBackend.figure_format = 'retina'\n",
    "\n",
    "import helper\n",
    "import numpy as np\n",
    "\n",
    "# Explore the dataset\n",
    "batch_id = 2\n",
    "sample_id = 29\n",
    "helper.display_stats(cifar10_dataset_folder_path, batch_id, sample_id)"
   ]
  },
  {
   "cell_type": "markdown",
   "metadata": {
    "deletable": true,
    "editable": true
   },
   "source": [
    "## Implement Preprocess Functions\n",
    "### Normalize\n",
    "In the cell below, implement the `normalize` function to take in image data, `x`, and return it as a normalized Numpy array. The values should be in the range of 0 to 1, inclusive.  The return object should be the same shape as `x`."
   ]
  },
  {
   "cell_type": "code",
   "execution_count": 3,
   "metadata": {
    "collapsed": false,
    "deletable": true,
    "editable": true
   },
   "outputs": [
    {
     "name": "stdout",
     "output_type": "stream",
     "text": [
      "Tests Passed\n"
     ]
    }
   ],
   "source": [
    "def normalize(x):\n",
    "    \"\"\"\n",
    "    Normalize a list of sample image data in the range of 0 to 1\n",
    "    : x: List of image data.  The image shape is (32, 32, 3)\n",
    "    : return: Numpy array of normalize data\n",
    "    \"\"\"\n",
    "    # TODO: Implement Function\n",
    "    \n",
    "#     # use list\n",
    "#     for i in range(len(x)):\n",
    "#         # print(len(x[i]))\n",
    "#         for j in range( len(x[i]) ):\n",
    "#             for k in range( len(x[i][j]) ):\n",
    "#                 # print(len(x[i][j][k]))\n",
    "#                 for l in range( len(x[i][j][k]) ):\n",
    "#                     x[i][j][k][l] = x[i][j][k][l]/255\n",
    "    \n",
    "    # oops no need to use mean and std\n",
    "    x2 = np.array(x)\n",
    "    # x2_mean = np.mean(x2)\n",
    "    # x2_std = np.std(x2)\n",
    "    # print(\"mean:{}, std:{}\".format(x2_mean, x2_std))\n",
    "    \n",
    "    lam1 = lambda t: t / 255.0\n",
    "    x2 = np.array([lam1(xi) for xi in x2])\n",
    "    \n",
    "    return np.array(x2)\n",
    "\n",
    "\n",
    "\"\"\"\n",
    "DON'T MODIFY ANYTHING IN THIS CELL THAT IS BELOW THIS LINE\n",
    "\"\"\"\n",
    "tests.test_normalize(normalize)"
   ]
  },
  {
   "cell_type": "markdown",
   "metadata": {
    "deletable": true,
    "editable": true
   },
   "source": [
    "### One-hot encode\n",
    "Just like the previous code cell, you'll be implementing a function for preprocessing.  This time, you'll implement the `one_hot_encode` function. The input, `x`, are a list of labels.  Implement the function to return the list of labels as One-Hot encoded Numpy array.  The possible values for labels are 0 to 9. The one-hot encoding function should return the same encoding for each value between each call to `one_hot_encode`.  Make sure to save the map of encodings outside the function.\n",
    "\n",
    "Hint: Don't reinvent the wheel."
   ]
  },
  {
   "cell_type": "code",
   "execution_count": 4,
   "metadata": {
    "collapsed": false,
    "deletable": true,
    "editable": true
   },
   "outputs": [
    {
     "name": "stdout",
     "output_type": "stream",
     "text": [
      "Tests Passed\n"
     ]
    }
   ],
   "source": [
    "def one_hot_encode(x):\n",
    "    \"\"\"\n",
    "    One hot encode a list of sample labels. Return a one-hot encoded vector for each label.\n",
    "    : x: List of sample Labels\n",
    "    : return: Numpy array of one-hot encoded labels\n",
    "    \"\"\"\n",
    "    # TODO: Implement Function\n",
    "    \n",
    "    def one_hot_encode1(arg0):\n",
    "        if arg0 == 0:\n",
    "            return np.array([1,0,0,0,0,0,0,0,0,0])\n",
    "        elif arg0 == 1:\n",
    "            return np.array([0,1,0,0,0,0,0,0,0,0])\n",
    "        elif arg0 == 2:\n",
    "            return np.array([0,0,1,0,0,0,0,0,0,0])\n",
    "        elif arg0 == 3:\n",
    "            return np.array([0,0,0,1,0,0,0,0,0,0])\n",
    "        elif arg0 == 4:\n",
    "            return np.array([0,0,0,0,1,0,0,0,0,0])\n",
    "        elif arg0 == 5:\n",
    "            return np.array([0,0,0,0,0,1,0,0,0,0])\n",
    "        elif arg0 == 6:\n",
    "            return np.array([0,0,0,0,0,0,1,0,0,0])\n",
    "        elif arg0 == 7:\n",
    "            return np.array([0,0,0,0,0,0,0,1,0,0])\n",
    "        elif arg0 == 8:\n",
    "            return np.array([0,0,0,0,0,0,0,0,1,0])\n",
    "        elif arg0 == 9:\n",
    "            return np.array([0,0,0,0,0,0,0,0,0,1])\n",
    "    \n",
    "    \n",
    "    x = np.array([one_hot_encode1(xi) for xi in x])\n",
    "    \n",
    "#     for i in range(len(x)):\n",
    "#         if x[i] == 0:\n",
    "#             x2[i] = np.array([1,0,0,0,0,0,0,0,0,0])\n",
    "#         elif x[i] == 1:\n",
    "#             x2[i] = np.array([0,1,0,0,0,0,0,0,0,0])\n",
    "#         elif x[i] == 2:\n",
    "#             x2[i] = np.array([0,0,1,0,0,0,0,0,0,0])\n",
    "#         elif x[i] == 3:\n",
    "#             x2[i] = np.array([0,0,0,1,0,0,0,0,0,0])\n",
    "#         elif x[i] == 4:\n",
    "#             x2[i] = np.array([0,0,0,0,1,0,0,0,0,0])\n",
    "#         elif x[i] == 5:\n",
    "#             x2[i] = np.array([0,0,0,0,0,1,0,0,0,0])\n",
    "#         elif x[i] == 6:\n",
    "#             x2[i] = np.array([0,0,0,0,0,0,1,0,0,0])\n",
    "#         elif x[i] == 7:\n",
    "#             x2[i] = np.array([0,0,0,0,0,0,0,1,0,0])\n",
    "#         elif x[i] == 8:\n",
    "#             x2[i] = np.array([0,0,0,0,0,0,0,0,1,0])\n",
    "#         elif x[i] == 9:\n",
    "#             x2[i] = np.array([0,0,0,0,0,0,0,0,0,1])\n",
    "        \n",
    "#     print(x.shape)\n",
    "        \n",
    "    return x\n",
    "\n",
    "\n",
    "\"\"\"\n",
    "DON'T MODIFY ANYTHING IN THIS CELL THAT IS BELOW THIS LINE\n",
    "\"\"\"\n",
    "tests.test_one_hot_encode(one_hot_encode)"
   ]
  },
  {
   "cell_type": "markdown",
   "metadata": {
    "deletable": true,
    "editable": true
   },
   "source": [
    "### Randomize Data\n",
    "As you saw from exploring the data above, the order of the samples are randomized.  It doesn't hurt to randomize it again, but you don't need to for this dataset."
   ]
  },
  {
   "cell_type": "markdown",
   "metadata": {
    "deletable": true,
    "editable": true
   },
   "source": [
    "## Preprocess all the data and save it\n",
    "Running the code cell below will preprocess all the CIFAR-10 data and save it to file. The code below also uses 10% of the training data for validation."
   ]
  },
  {
   "cell_type": "code",
   "execution_count": 5,
   "metadata": {
    "collapsed": false,
    "deletable": true,
    "editable": true
   },
   "outputs": [],
   "source": [
    "\"\"\"\n",
    "DON'T MODIFY ANYTHING IN THIS CELL\n",
    "\"\"\"\n",
    "# Preprocess Training, Validation, and Testing Data\n",
    "helper.preprocess_and_save_data(cifar10_dataset_folder_path, normalize, one_hot_encode)"
   ]
  },
  {
   "cell_type": "markdown",
   "metadata": {
    "deletable": true,
    "editable": true
   },
   "source": [
    "# Check Point\n",
    "This is your first checkpoint.  If you ever decide to come back to this notebook or have to restart the notebook, you can start from here.  The preprocessed data has been saved to disk."
   ]
  },
  {
   "cell_type": "code",
   "execution_count": 1,
   "metadata": {
    "collapsed": true,
    "deletable": true,
    "editable": true
   },
   "outputs": [],
   "source": [
    "\"\"\"\n",
    "DON'T MODIFY ANYTHING IN THIS CELL\n",
    "\"\"\"\n",
    "import pickle\n",
    "import problem_unittests as tests\n",
    "import helper\n",
    "\n",
    "# Load the Preprocessed Validation data\n",
    "valid_features, valid_labels = pickle.load(open('preprocess_validation.p', mode='rb'))"
   ]
  },
  {
   "cell_type": "markdown",
   "metadata": {
    "deletable": true,
    "editable": true
   },
   "source": [
    "## Build the network\n",
    "For the neural network, you'll build each layer into a function.  Most of the code you've seen has been outside of functions. To test your code more thoroughly, we require that you put each layer in a function.  This allows us to give you better feedback and test for simple mistakes using our unittests before you submit your project.\n",
    "\n",
    ">**Note:** If you're finding it hard to dedicate enough time for this course each week, we've provided a small shortcut to this part of the project. In the next couple of problems, you'll have the option to use classes from the [TensorFlow Layers](https://www.tensorflow.org/api_docs/python/tf/layers) or [TensorFlow Layers (contrib)](https://www.tensorflow.org/api_guides/python/contrib.layers) packages to build each layer, except the layers you build in the \"Convolutional and Max Pooling Layer\" section.  TF Layers is similar to Keras's and TFLearn's abstraction to layers, so it's easy to pickup.\n",
    "\n",
    ">However, if you would like to get the most out of this course, try to solve all the problems _without_ using anything from the TF Layers packages. You **can** still use classes from other packages that happen to have the same name as ones you find in TF Layers! For example, instead of using the TF Layers version of the `conv2d` class, [tf.layers.conv2d](https://www.tensorflow.org/api_docs/python/tf/layers/conv2d), you would want to use the TF Neural Network version of `conv2d`, [tf.nn.conv2d](https://www.tensorflow.org/api_docs/python/tf/nn/conv2d). \n",
    "\n",
    "Let's begin!\n",
    "\n",
    "### Input\n",
    "The neural network needs to read the image data, one-hot encoded labels, and dropout keep probability. Implement the following functions\n",
    "* Implement `neural_net_image_input`\n",
    " * Return a [TF Placeholder](https://www.tensorflow.org/api_docs/python/tf/placeholder)\n",
    " * Set the shape using `image_shape` with batch size set to `None`.\n",
    " * Name the TensorFlow placeholder \"x\" using the TensorFlow `name` parameter in the [TF Placeholder](https://www.tensorflow.org/api_docs/python/tf/placeholder).\n",
    "* Implement `neural_net_label_input`\n",
    " * Return a [TF Placeholder](https://www.tensorflow.org/api_docs/python/tf/placeholder)\n",
    " * Set the shape using `n_classes` with batch size set to `None`.\n",
    " * Name the TensorFlow placeholder \"y\" using the TensorFlow `name` parameter in the [TF Placeholder](https://www.tensorflow.org/api_docs/python/tf/placeholder).\n",
    "* Implement `neural_net_keep_prob_input`\n",
    " * Return a [TF Placeholder](https://www.tensorflow.org/api_docs/python/tf/placeholder) for dropout keep probability.\n",
    " * Name the TensorFlow placeholder \"keep_prob\" using the TensorFlow `name` parameter in the [TF Placeholder](https://www.tensorflow.org/api_docs/python/tf/placeholder).\n",
    "\n",
    "These names will be used at the end of the project to load your saved model.\n",
    "\n",
    "Note: `None` for shapes in TensorFlow allow for a dynamic size."
   ]
  },
  {
   "cell_type": "code",
   "execution_count": 2,
   "metadata": {
    "collapsed": false,
    "deletable": true,
    "editable": true
   },
   "outputs": [
    {
     "name": "stdout",
     "output_type": "stream",
     "text": [
      "Image Input Tests Passed.\n",
      "Label Input Tests Passed.\n",
      "Keep Prob Tests Passed.\n"
     ]
    }
   ],
   "source": [
    "import tensorflow as tf\n",
    "\n",
    "def neural_net_image_input(image_shape):\n",
    "    \"\"\"\n",
    "    Return a Tensor for a bach of image input\n",
    "    : image_shape: Shape of the images\n",
    "    : return: Tensor for image input.\n",
    "    \"\"\"\n",
    "    # TODO: Implement Function\n",
    "    return tf.placeholder(tf.float32, shape=(None, 32, 32, 3), name=\"x\")\n",
    "\n",
    "\n",
    "def neural_net_label_input(n_classes):\n",
    "    \"\"\"\n",
    "    Return a Tensor for a batch of label input\n",
    "    : n_classes: Number of classes\n",
    "    : return: Tensor for label input.\n",
    "    \"\"\"\n",
    "    # TODO: Implement Function\n",
    "    return tf.placeholder(tf.float32, shape=(None, n_classes), name=\"y\")\n",
    "\n",
    "\n",
    "\n",
    "def neural_net_keep_prob_input():\n",
    "    \"\"\"\n",
    "    Return a Tensor for keep probability\n",
    "    : return: Tensor for keep probability.\n",
    "    \"\"\"\n",
    "    # TODO: Implement Function\n",
    "    return  tf.placeholder(tf.float32, name=\"keep_prob\")\n",
    "\n",
    "\n",
    "\"\"\"\n",
    "DON'T MODIFY ANYTHING IN THIS CELL THAT IS BELOW THIS LINE\n",
    "\"\"\"\n",
    "tf.reset_default_graph()\n",
    "tests.test_nn_image_inputs(neural_net_image_input)\n",
    "tests.test_nn_label_inputs(neural_net_label_input)\n",
    "tests.test_nn_keep_prob_inputs(neural_net_keep_prob_input)"
   ]
  },
  {
   "cell_type": "markdown",
   "metadata": {
    "deletable": true,
    "editable": true
   },
   "source": [
    "### Convolution and Max Pooling Layer\n",
    "Convolution layers have a lot of success with images. For this code cell, you should implement the function `conv2d_maxpool` to apply convolution then max pooling:\n",
    "* Create the weight and bias using `conv_ksize`, `conv_num_outputs` and the shape of `x_tensor`.\n",
    "* Apply a convolution to `x_tensor` using weight and `conv_strides`.\n",
    " * We recommend you use same padding, but you're welcome to use any padding.\n",
    "* Add bias\n",
    "* Add a nonlinear activation to the convolution.\n",
    "* Apply Max Pooling using `pool_ksize` and `pool_strides`.\n",
    " * We recommend you use same padding, but you're welcome to use any padding.\n",
    "\n",
    "**Note:** You **can't** use [TensorFlow Layers](https://www.tensorflow.org/api_docs/python/tf/layers) or [TensorFlow Layers (contrib)](https://www.tensorflow.org/api_guides/python/contrib.layers) for **this** layer, but you can still use TensorFlow's [Neural Network](https://www.tensorflow.org/api_docs/python/tf/nn) package. You may still use the shortcut option for all the **other** layers."
   ]
  },
  {
   "cell_type": "code",
   "execution_count": 3,
   "metadata": {
    "collapsed": false,
    "deletable": true,
    "editable": true
   },
   "outputs": [
    {
     "name": "stdout",
     "output_type": "stream",
     "text": [
      "Tests Passed\n"
     ]
    }
   ],
   "source": [
    "import math\n",
    "\n",
    "def conv2d_maxpool(x_tensor, conv_num_outputs, conv_ksize, conv_strides, pool_ksize, pool_strides):\n",
    "    \"\"\"\n",
    "    Apply convolution then max pooling to x_tensor\n",
    "    :param x_tensor: TensorFlow Tensor\n",
    "    :param conv_num_outputs: Number of outputs for the convolutional layer\n",
    "    :param conv_ksize: kernal size 2-D Tuple for the convolutional layer\n",
    "    :param conv_strides: Stride 2-D Tuple for convolution\n",
    "    :param pool_ksize: kernal size 2-D Tuple for pool\n",
    "    :param pool_strides: Stride 2-D Tuple for pool\n",
    "    : return: A tensor that represents convolution and max pooling of x_tensor\n",
    "    \"\"\"\n",
    "    # TODO: Implement Function\n",
    "    \n",
    "    # get dimension\n",
    "    _, in_height, in_width, depth = x_tensor.shape\n",
    "    \n",
    "    # 'VALID'\n",
    "    \n",
    "#     in_height = int(in_height)\n",
    "#     in_width = int(in_width)\n",
    "#     print(\"in_height:{}\".format(in_height))\n",
    "#     print(\"{}\".format(conv_ksize))\n",
    "#     print(conv_strides)\n",
    "\n",
    "#     out_height = math.ceil(float(in_height - conv_ksize[0] + 1) / float(conv_strides[0]))\n",
    "#     out_width = math.ceil(float(in_width - conv_ksize[1] + 1) / float(conv_strides[1]))\n",
    "\n",
    "#     # weights and biases \n",
    "#     # weight_1 = tf.Variable(tf.random_norm([out_height, out_width, int(depth), conv_num_outputs],mean=0.0,stddev = 0.1))    \n",
    "#     weight_1 = tf.Variable(tf.truncated_normal([out_height, out_width, int(depth), conv_num_outputs]))\n",
    "#     bias_1 = tf.Variable(tf.zeros([conv_num_outputs]));\n",
    "\n",
    "#     # convolution\n",
    "#     output_1 = tf.nn.conv2d(x_tensor, weight_1, strides=[1, conv_strides[0], conv_strides[1], 1], padding='VALID')\n",
    "\n",
    "#     # add bias\n",
    "#     output_1 = tf.nn.bias_add(output_1, bias_1)\n",
    "\n",
    "#     # use relu as nolinear function\n",
    "#     output_1 = tf.nn.relu(output_1)\n",
    "\n",
    "#     # Maxpooling\n",
    "#     output_1 = tf.nn.max_pool(output_1, \n",
    "#                               ksize=[1, pool_ksize[0], pool_ksize[1], 1],\n",
    "#                               strides=[1, pool_strides[0], pool_strides[1], 1], \n",
    "#                               padding='SAME')\n",
    "    \n",
    "#     print(output_1.shape)\n",
    "    \n",
    "    # 'SAME'\n",
    "    \n",
    "    weight_1 = tf.Variable(tf.truncated_normal([conv_ksize[0],\n",
    "                                                conv_ksize[1],\n",
    "                                                int(depth),\n",
    "                                                conv_num_outputs],\n",
    "                                               mean=0.0,\n",
    "                                               stddev=0.1))\n",
    "    \n",
    "    bias_1 = tf.Variable(tf.truncated_normal([conv_num_outputs],\n",
    "                                               mean=0.0,\n",
    "                                               stddev=0.1))\n",
    "    # bias_1 = tf.Variable(tf.zeros([conv_num_outputs]));\n",
    "\n",
    "    # convolution\n",
    "    # what is the shape of weight? if i use 'SAME' can i use conv_ksize?\n",
    "    output_1 = tf.nn.conv2d(x_tensor, weight_1, strides=[1, conv_strides[0], conv_strides[1], 1], padding='SAME')\n",
    "    \n",
    "    # add bias\n",
    "    output_1 = tf.nn.bias_add(output_1, bias_1)\n",
    "    \n",
    "    # use relu as nolinear function\n",
    "    output_1 = tf.nn.relu(output_1)\n",
    "    \n",
    "    # Maxpooling\n",
    "    output_1 = tf.nn.max_pool(output_1, \n",
    "                              ksize=[1, pool_ksize[0], pool_ksize[1], 1],\n",
    "                              strides=[1, pool_strides[0], pool_strides[1], 1], \n",
    "                              padding='SAME')\n",
    "    \n",
    "    return output_1\n",
    "\n",
    "\n",
    "\"\"\"\n",
    "DON'T MODIFY ANYTHING IN THIS CELL THAT IS BELOW THIS LINE\n",
    "\"\"\"\n",
    "tests.test_con_pool(conv2d_maxpool)"
   ]
  },
  {
   "cell_type": "markdown",
   "metadata": {
    "deletable": true,
    "editable": true
   },
   "source": [
    "### Flatten Layer\n",
    "Implement the `flatten` function to change the dimension of `x_tensor` from a 4-D tensor to a 2-D tensor.  The output should be the shape (*Batch Size*, *Flattened Image Size*). Shortcut option: you can use classes from the [TensorFlow Layers](https://www.tensorflow.org/api_docs/python/tf/layers) or [TensorFlow Layers (contrib)](https://www.tensorflow.org/api_guides/python/contrib.layers) packages for this layer. For more of a challenge, only use other TensorFlow packages."
   ]
  },
  {
   "cell_type": "code",
   "execution_count": 4,
   "metadata": {
    "collapsed": false,
    "deletable": true,
    "editable": true
   },
   "outputs": [
    {
     "name": "stdout",
     "output_type": "stream",
     "text": [
      "Tests Passed\n"
     ]
    }
   ],
   "source": [
    "def flatten(x_tensor):\n",
    "    \"\"\"\n",
    "    Flatten x_tensor to (Batch Size, Flattened Image Size)\n",
    "    : x_tensor: A tensor of size (Batch Size, ...), where ... are the image dimensions.\n",
    "    : return: A tensor of size (Batch Size, Flattened Image Size).\n",
    "    \"\"\"\n",
    "    # TODO: Implement Function\n",
    "    \n",
    "    # print(x_tensor.get_shape().as_list())\n",
    "    \n",
    "    a0, a1, a2, a3 = x_tensor.shape\n",
    "    # tf.reshape(x_tensor, [-1, weights['wd1'].get_shape().as_list()[0]])\n",
    "    return tf.reshape(x_tensor, [-1, int(a1) * int(a2) * int(a3)])\n",
    "\n",
    "\n",
    "\"\"\"\n",
    "DON'T MODIFY ANYTHING IN THIS CELL THAT IS BELOW THIS LINE\n",
    "\"\"\"\n",
    "tests.test_flatten(flatten)"
   ]
  },
  {
   "cell_type": "markdown",
   "metadata": {
    "deletable": true,
    "editable": true
   },
   "source": [
    "### Fully-Connected Layer\n",
    "Implement the `fully_conn` function to apply a fully connected layer to `x_tensor` with the shape (*Batch Size*, *num_outputs*). Shortcut option: you can use classes from the [TensorFlow Layers](https://www.tensorflow.org/api_docs/python/tf/layers) or [TensorFlow Layers (contrib)](https://www.tensorflow.org/api_guides/python/contrib.layers) packages for this layer. For more of a challenge, only use other TensorFlow packages."
   ]
  },
  {
   "cell_type": "code",
   "execution_count": 5,
   "metadata": {
    "collapsed": false,
    "deletable": true,
    "editable": true
   },
   "outputs": [
    {
     "name": "stdout",
     "output_type": "stream",
     "text": [
      "Tests Passed\n"
     ]
    }
   ],
   "source": [
    "def fully_conn(x_tensor, num_outputs):\n",
    "    \"\"\"\n",
    "    Apply a fully connected layer to x_tensor using weight and bias\n",
    "    : x_tensor: A 2-D tensor where the first dimension is batch size.\n",
    "    : num_outputs: The number of output that the new tensor should be.\n",
    "    : return: A 2-D tensor where the second dimension is num_outputs.\n",
    "    \"\"\"\n",
    "    # TODO: Implement Function\n",
    "    \n",
    "    # weight and bias\n",
    "    _, a1 = x_tensor.shape\n",
    "    weight_2 = tf.Variable(tf.truncated_normal([int(a1), num_outputs], stddev=0.1))\n",
    "    bias_2 = tf.Variable(tf.truncated_normal([num_outputs], stddev=0.1))\n",
    "    \n",
    "    output = tf.add(tf.matmul(x_tensor, weight_2), bias_2)\n",
    "    output = tf.nn.relu(output)\n",
    "    \n",
    "    return output\n",
    "\n",
    "\n",
    "\"\"\"\n",
    "DON'T MODIFY ANYTHING IN THIS CELL THAT IS BELOW THIS LINE\n",
    "\"\"\"\n",
    "tests.test_fully_conn(fully_conn)"
   ]
  },
  {
   "cell_type": "markdown",
   "metadata": {
    "deletable": true,
    "editable": true
   },
   "source": [
    "### Output Layer\n",
    "Implement the `output` function to apply a fully connected layer to `x_tensor` with the shape (*Batch Size*, *num_outputs*). Shortcut option: you can use classes from the [TensorFlow Layers](https://www.tensorflow.org/api_docs/python/tf/layers) or [TensorFlow Layers (contrib)](https://www.tensorflow.org/api_guides/python/contrib.layers) packages for this layer. For more of a challenge, only use other TensorFlow packages.\n",
    "\n",
    "**Note:** Activation, softmax, or cross entropy should **not** be applied to this."
   ]
  },
  {
   "cell_type": "code",
   "execution_count": 6,
   "metadata": {
    "collapsed": false,
    "deletable": true,
    "editable": true
   },
   "outputs": [
    {
     "name": "stdout",
     "output_type": "stream",
     "text": [
      "Tests Passed\n"
     ]
    }
   ],
   "source": [
    "def output(x_tensor, num_outputs):\n",
    "    \"\"\"\n",
    "    Apply a output layer to x_tensor using weight and bias\n",
    "    : x_tensor: A 2-D tensor where the first dimension is batch size.\n",
    "    : num_outputs: The number of output that the new tensor should be.\n",
    "    : return: A 2-D tensor where the second dimension is num_outputs.\n",
    "    \"\"\"\n",
    "    # TODO: Implement Function\n",
    "    \n",
    "#     print(x_tensor)\n",
    "#     print(num_outputs)\n",
    "    \n",
    "    # weight and bias\n",
    "    _, a1 = x_tensor.shape\n",
    "    weight_3 = tf.Variable(tf.truncated_normal([int(a1), num_outputs],stddev=0.1))\n",
    "    bias_3 = tf.Variable(tf.truncated_normal([num_outputs], stddev=0.1))\n",
    "    \n",
    "    output = tf.add(tf.matmul(x_tensor, weight_3), bias_3)\n",
    "    return output\n",
    "\n",
    "\n",
    "\"\"\"\n",
    "DON'T MODIFY ANYTHING IN THIS CELL THAT IS BELOW THIS LINE\n",
    "\"\"\"\n",
    "tests.test_output(output)"
   ]
  },
  {
   "cell_type": "markdown",
   "metadata": {
    "deletable": true,
    "editable": true
   },
   "source": [
    "### Create Convolutional Model\n",
    "Implement the function `conv_net` to create a convolutional neural network model. The function takes in a batch of images, `x`, and outputs logits.  Use the layers you created above to create this model:\n",
    "\n",
    "* Apply 1, 2, or 3 Convolution and Max Pool layers\n",
    "* Apply a Flatten Layer\n",
    "* Apply 1, 2, or 3 Fully Connected Layers\n",
    "* Apply an Output Layer\n",
    "* Return the output\n",
    "* Apply [TensorFlow's Dropout](https://www.tensorflow.org/api_docs/python/tf/nn/dropout) to one or more layers in the model using `keep_prob`. "
   ]
  },
  {
   "cell_type": "code",
   "execution_count": 7,
   "metadata": {
    "collapsed": false,
    "deletable": true,
    "editable": true
   },
   "outputs": [
    {
     "name": "stdout",
     "output_type": "stream",
     "text": [
      "Neural Network Built!\n"
     ]
    }
   ],
   "source": [
    "def conv_net(x, keep_prob):\n",
    "    \"\"\"\n",
    "    Create a convolutional neural network model\n",
    "    : x: Placeholder tensor that holds image data.\n",
    "    : keep_prob: Placeholder tensor that hold dropout keep probability.\n",
    "    : return: Tensor that represents logits\n",
    "    \"\"\"\n",
    "    # TODO: Apply 1, 2, or 3 Convolution and Max Pool layers\n",
    "    #    Play around with different number of outputs, kernel size and stride\n",
    "    # Function Definition from Above:\n",
    "    #    conv2d_maxpool(x_tensor, conv_num_outputs, conv_ksize, conv_strides, pool_ksize, pool_strides)\n",
    "    \n",
    "    layer_1 = conv2d_maxpool(x, 18, (4,4), (1,1), (2,2), (1,1))\n",
    "    layer_2 = conv2d_maxpool(layer_1, 32, (4,4), (1,1), (2,2), (1,1))\n",
    "    # layer_2_1 = tf.nn.dropout(layer_2, keep_prob)\n",
    "    # layer_3 = conv2d_maxpool(layer_2, 128, [5,5], [1,1], [2,2], [1,1])\n",
    "\n",
    "    # TODO: Apply a Flatten Layer\n",
    "    # Function Definition from Above:\n",
    "    #   flatten(x_tensor)\n",
    "    # layer_3 = flatten(layer_2)\n",
    "    layer_4 = flatten(layer_2)\n",
    "\n",
    "    # TODO: Apply 1, 2, or 3 Fully Connected Layers\n",
    "    #    Play around with different number of outputs\n",
    "    # Function Definition from Above:\n",
    "    #   fully_conn(x_tensor, num_outputs)\n",
    "    layer_5 = fully_conn(layer_4, 384)\n",
    "    \n",
    "    # try dropout\n",
    "    # layer_5_1 = tf.nn.dropout(layer_5, keep_prob)\n",
    "    \n",
    "    layer_6 = fully_conn(layer_5, 64)\n",
    "    layer_6_1 = tf.nn.dropout(layer_6, keep_prob)\n",
    "    \n",
    "    \n",
    "    # TODO: Apply an Output Layer\n",
    "    #    Set this to the number of classes\n",
    "    # Function Definition from Above:\n",
    "    #   output(x_tensor, num_outputs)\n",
    "    layer_7 = output(layer_6_1, 10)\n",
    "    \n",
    "    # TODO: return output\n",
    "    return layer_7\n",
    "\n",
    "\n",
    "\"\"\"\n",
    "DON'T MODIFY ANYTHING IN THIS CELL THAT IS BELOW THIS LINE\n",
    "\"\"\"\n",
    "\n",
    "##############################\n",
    "## Build the Neural Network ##\n",
    "##############################\n",
    "\n",
    "# Remove previous weights, bias, inputs, etc..\n",
    "tf.reset_default_graph()\n",
    "\n",
    "# Inputs\n",
    "x = neural_net_image_input((32, 32, 3))\n",
    "y = neural_net_label_input(10)\n",
    "keep_prob = neural_net_keep_prob_input()\n",
    "\n",
    "# Model\n",
    "logits = conv_net(x, keep_prob)\n",
    "\n",
    "# Name logits Tensor, so that is can be loaded from disk after training\n",
    "logits = tf.identity(logits, name='logits')\n",
    "\n",
    "# Loss and Optimizer\n",
    "cost = tf.reduce_mean(tf.nn.softmax_cross_entropy_with_logits(logits=logits, labels=y))\n",
    "optimizer = tf.train.AdamOptimizer().minimize(cost)\n",
    "\n",
    "# Accuracy\n",
    "correct_pred = tf.equal(tf.argmax(logits, 1), tf.argmax(y, 1))\n",
    "accuracy = tf.reduce_mean(tf.cast(correct_pred, tf.float32), name='accuracy')\n",
    "\n",
    "tests.test_conv_net(conv_net)"
   ]
  },
  {
   "cell_type": "markdown",
   "metadata": {
    "deletable": true,
    "editable": true
   },
   "source": [
    "## Train the Neural Network\n",
    "### Single Optimization\n",
    "Implement the function `train_neural_network` to do a single optimization.  The optimization should use `optimizer` to optimize in `session` with a `feed_dict` of the following:\n",
    "* `x` for image input\n",
    "* `y` for labels\n",
    "* `keep_prob` for keep probability for dropout\n",
    "\n",
    "This function will be called for each batch, so `tf.global_variables_initializer()` has already been called.\n",
    "\n",
    "Note: Nothing needs to be returned. This function is only optimizing the neural network."
   ]
  },
  {
   "cell_type": "code",
   "execution_count": 8,
   "metadata": {
    "collapsed": false,
    "deletable": true,
    "editable": true
   },
   "outputs": [
    {
     "name": "stdout",
     "output_type": "stream",
     "text": [
      "Tests Passed\n"
     ]
    }
   ],
   "source": [
    "def train_neural_network(session, optimizer, keep_probability, feature_batch, label_batch):\n",
    "    \"\"\"\n",
    "    Optimize the session on a batch of images and labels\n",
    "    : session: Current TensorFlow session\n",
    "    : optimizer: TensorFlow optimizer function\n",
    "    : keep_probability: keep probability\n",
    "    : feature_batch: Batch of Numpy image data\n",
    "    : label_batch: Batch of Numpy label data\n",
    "    \"\"\"\n",
    "    # TODO: Implement Function\n",
    "    session.run(optimizer, feed_dict={x:feature_batch, y:label_batch, keep_prob:keep_probability})\n",
    "    # pass\n",
    "\n",
    "\n",
    "\"\"\"\n",
    "DON'T MODIFY ANYTHING IN THIS CELL THAT IS BELOW THIS LINE\n",
    "\"\"\"\n",
    "tests.test_train_nn(train_neural_network)"
   ]
  },
  {
   "cell_type": "markdown",
   "metadata": {
    "deletable": true,
    "editable": true
   },
   "source": [
    "### Show Stats\n",
    "Implement the function `print_stats` to print loss and validation accuracy.  Use the global variables `valid_features` and `valid_labels` to calculate validation accuracy.  Use a keep probability of `1.0` to calculate the loss and validation accuracy."
   ]
  },
  {
   "cell_type": "code",
   "execution_count": 9,
   "metadata": {
    "collapsed": false,
    "deletable": true,
    "editable": true
   },
   "outputs": [],
   "source": [
    "import math\n",
    "\n",
    "def print_stats(session, feature_batch, label_batch, cost, accuracy):\n",
    "    \"\"\"\n",
    "    Print information about loss and validation accuracy\n",
    "    : session: Current TensorFlow session\n",
    "    : feature_batch: Batch of Numpy image data\n",
    "    : label_batch: Batch of Numpy label data\n",
    "    : cost: TensorFlow cost function\n",
    "    : accuracy: TensorFlow accuracy function\n",
    "    \"\"\"\n",
    "    # TODO: Implement Function\n",
    "    # cost_output = session.run(cost, feed_dict={x:feature_batch, y:label_batch, keep_prob:1.0})\n",
    "    # accuracy_output = session.run(accuracy, feed_dict={x:feature_batch, y:label_batch, keep_prob:1.0})\n",
    "    cost_output = session.run(cost, feed_dict={x:feature_batch, y:label_batch, keep_prob:1.0})\n",
    "    \n",
    "#     print(\"feature_batch.shape:{},label_batch:{}\".format(feature_batch.shape, label_batch.shape) )\n",
    "#     print(\"valid_features.shape:{},valid_labels:{}\".format(valid_features.shape, valid_labels.shape) )\n",
    "    \n",
    "    tmp_count_str, _, _, _ = feature_batch.shape\n",
    "    # WTF? is tmp_count_str int?\n",
    "    # tmp_batch_size = len(tmp_count_str)\n",
    "    tmp_batch_size = tmp_count_str\n",
    "    if isinstance( tmp_count_str, int ):\n",
    "        pass\n",
    "        #tmp_batch_size = tmp_count_str\n",
    "    else:\n",
    "        tmp_batch_size = len(tmp_count_str)\n",
    "    \n",
    "    valid_count_str, _, _, _ = valid_features.shape\n",
    "    valid_count = valid_count_str\n",
    "    if isinstance( tmp_count_str, int ):\n",
    "        pass\n",
    "        # valid_count = valid_count_str\n",
    "    else:\n",
    "        valid_count = len(valid_count_str)\n",
    "        \n",
    "    tmp_batch_count = math.ceil(valid_count / tmp_batch_size)\n",
    "    \n",
    "    valid_accuracy_output_sum = 0;\n",
    "    valid_accuracy_output_count = 0;\n",
    "    for idx in range(tmp_batch_count):\n",
    "        \n",
    "        start_idx = idx*tmp_batch_size\n",
    "        end_idx = (idx+1)*tmp_batch_size\n",
    "        if end_idx > valid_count:\n",
    "            end_idx = valid_count\n",
    "        \n",
    "        valid_features_1 = valid_features[start_idx:end_idx]\n",
    "        valid_labels_1 = valid_labels[start_idx:end_idx]\n",
    "        # print(\"{} to {}\".format(start_idx, end_idx))\n",
    "        valid_accuracy_output_1 = session.run(accuracy, feed_dict={x:valid_features_1, y:valid_labels_1, keep_prob:1.0})\n",
    "        valid_accuracy_output_sum = valid_accuracy_output_sum + valid_accuracy_output_1\n",
    "        valid_accuracy_output_count = valid_accuracy_output_count + 1\n",
    "    \n",
    "    valid_accuracy_output = valid_accuracy_output_sum / valid_accuracy_output_count\n",
    "    print(\"loss:{}, accuracy:{}\".format(cost_output, valid_accuracy_output))\n",
    "    #pass"
   ]
  },
  {
   "cell_type": "markdown",
   "metadata": {
    "deletable": true,
    "editable": true
   },
   "source": [
    "### Hyperparameters\n",
    "Tune the following parameters:\n",
    "* Set `epochs` to the number of iterations until the network stops learning or start overfitting\n",
    "* Set `batch_size` to the highest number that your machine has memory for.  Most people set them to common sizes of memory:\n",
    " * 64\n",
    " * 128\n",
    " * 256\n",
    " * ...\n",
    "* Set `keep_probability` to the probability of keeping a node using dropout"
   ]
  },
  {
   "cell_type": "code",
   "execution_count": 14,
   "metadata": {
    "collapsed": true,
    "deletable": true,
    "editable": true
   },
   "outputs": [],
   "source": [
    "# TODO: Tune Parameters\n",
    "# epochs = 50\n",
    "epochs = 15\n",
    "# batch_size = 128\n",
    "batch_size = 256\n",
    "keep_probability = 0.75"
   ]
  },
  {
   "cell_type": "markdown",
   "metadata": {
    "deletable": true,
    "editable": true
   },
   "source": [
    "### Train on a Single CIFAR-10 Batch\n",
    "Instead of training the neural network on all the CIFAR-10 batches of data, let's use a single batch. This should save time while you iterate on the model to get a better accuracy.  Once the final validation accuracy is 50% or greater, run the model on all the data in the next section."
   ]
  },
  {
   "cell_type": "code",
   "execution_count": 15,
   "metadata": {
    "collapsed": false,
    "deletable": true,
    "editable": true
   },
   "outputs": [
    {
     "name": "stdout",
     "output_type": "stream",
     "text": [
      "Checking the Training on a Single Batch...\n",
      "Epoch  1, CIFAR-10 Batch 1:  loss:2.135967493057251, accuracy:0.21700000613927842\n",
      "Epoch  2, CIFAR-10 Batch 1:  loss:1.8327112197875977, accuracy:0.3828000075817108\n",
      "Epoch  3, CIFAR-10 Batch 1:  loss:1.500440239906311, accuracy:0.4272000082731247\n",
      "Epoch  4, CIFAR-10 Batch 1:  loss:1.2022255659103394, accuracy:0.44940000677108766\n",
      "Epoch  5, CIFAR-10 Batch 1:  loss:1.0555086135864258, accuracy:0.4446000074148178\n",
      "Epoch  6, CIFAR-10 Batch 1:  loss:0.7660237550735474, accuracy:0.49780000996589663\n",
      "Epoch  7, CIFAR-10 Batch 1:  loss:0.685651421546936, accuracy:0.490000004529953\n",
      "Epoch  8, CIFAR-10 Batch 1:  loss:0.5614954829216003, accuracy:0.5040000078678131\n",
      "Epoch  9, CIFAR-10 Batch 1:  loss:0.5182953476905823, accuracy:0.5210000095367432\n",
      "Epoch 10, CIFAR-10 Batch 1:  loss:0.4351258873939514, accuracy:0.5072000079154968\n",
      "Epoch 11, CIFAR-10 Batch 1:  loss:0.3296891450881958, accuracy:0.5234000086784363\n",
      "Epoch 12, CIFAR-10 Batch 1:  loss:0.27265453338623047, accuracy:0.5336000080108643\n",
      "Epoch 13, CIFAR-10 Batch 1:  loss:0.2614603042602539, accuracy:0.5186000099182129\n",
      "Epoch 14, CIFAR-10 Batch 1:  loss:0.2147749960422516, accuracy:0.5394000108242035\n",
      "Epoch 15, CIFAR-10 Batch 1:  loss:0.2033916711807251, accuracy:0.5264000034332276\n"
     ]
    }
   ],
   "source": [
    "\"\"\"\n",
    "DON'T MODIFY ANYTHING IN THIS CELL\n",
    "\"\"\"\n",
    "print('Checking the Training on a Single Batch...')\n",
    "with tf.Session() as sess:\n",
    "    # Initializing the variables\n",
    "    sess.run(tf.global_variables_initializer())\n",
    "    \n",
    "    # Training cycle\n",
    "    for epoch in range(epochs):\n",
    "        batch_i = 1\n",
    "        for batch_features, batch_labels in helper.load_preprocess_training_batch(batch_i, batch_size):\n",
    "            train_neural_network(sess, optimizer, keep_probability, batch_features, batch_labels)\n",
    "        print('Epoch {:>2}, CIFAR-10 Batch {}:  '.format(epoch + 1, batch_i), end='')\n",
    "        print_stats(sess, batch_features, batch_labels, cost, accuracy)"
   ]
  },
  {
   "cell_type": "markdown",
   "metadata": {
    "deletable": true,
    "editable": true
   },
   "source": [
    "### Fully Train the Model\n",
    "Now that you got a good accuracy with a single CIFAR-10 batch, try it with all five batches."
   ]
  },
  {
   "cell_type": "code",
   "execution_count": 16,
   "metadata": {
    "collapsed": false,
    "deletable": true,
    "editable": true,
    "scrolled": false
   },
   "outputs": [
    {
     "name": "stdout",
     "output_type": "stream",
     "text": [
      "Training...\n",
      "Epoch  1, CIFAR-10 Batch 1:  loss:2.0880541801452637, accuracy:0.2838000074625015\n",
      "Epoch  1, CIFAR-10 Batch 2:  loss:1.803801417350769, accuracy:0.38760000789165494\n",
      "Epoch  1, CIFAR-10 Batch 3:  loss:1.546412467956543, accuracy:0.42420000791549684\n",
      "Epoch  1, CIFAR-10 Batch 4:  loss:1.4600311517715454, accuracy:0.47360001039505006\n",
      "Epoch  1, CIFAR-10 Batch 5:  loss:1.482309103012085, accuracy:0.48940000915527343\n",
      "Epoch  2, CIFAR-10 Batch 1:  loss:1.340046763420105, accuracy:0.5012000095844269\n",
      "Epoch  2, CIFAR-10 Batch 2:  loss:1.21053147315979, accuracy:0.5300000076293945\n",
      "Epoch  2, CIFAR-10 Batch 3:  loss:1.0154011249542236, accuracy:0.5422000091075897\n",
      "Epoch  2, CIFAR-10 Batch 4:  loss:0.9059536457061768, accuracy:0.5556000099182129\n",
      "Epoch  2, CIFAR-10 Batch 5:  loss:1.1139034032821655, accuracy:0.5686000111103058\n",
      "Epoch  3, CIFAR-10 Batch 1:  loss:0.9896727204322815, accuracy:0.5840000064373017\n",
      "Epoch  3, CIFAR-10 Batch 2:  loss:0.8858634829521179, accuracy:0.5506000096797943\n",
      "Epoch  3, CIFAR-10 Batch 3:  loss:0.7248867154121399, accuracy:0.5704000110626221\n",
      "Epoch  3, CIFAR-10 Batch 4:  loss:0.7258226871490479, accuracy:0.5818000087738037\n",
      "Epoch  3, CIFAR-10 Batch 5:  loss:0.8300873041152954, accuracy:0.5876000082492828\n",
      "Epoch  4, CIFAR-10 Batch 1:  loss:0.6901439428329468, accuracy:0.6082000114917755\n",
      "Epoch  4, CIFAR-10 Batch 2:  loss:0.6024360060691833, accuracy:0.5960000083446503\n",
      "Epoch  4, CIFAR-10 Batch 3:  loss:0.45518121123313904, accuracy:0.607200011253357\n",
      "Epoch  4, CIFAR-10 Batch 4:  loss:0.5145153999328613, accuracy:0.6192000102996826\n",
      "Epoch  4, CIFAR-10 Batch 5:  loss:0.5228716135025024, accuracy:0.6184000110626221\n",
      "Epoch  5, CIFAR-10 Batch 1:  loss:0.47515854239463806, accuracy:0.6120000097751618\n",
      "Epoch  5, CIFAR-10 Batch 2:  loss:0.4376121759414673, accuracy:0.6016000099182129\n",
      "Epoch  5, CIFAR-10 Batch 3:  loss:0.36662495136260986, accuracy:0.6010000081062317\n",
      "Epoch  5, CIFAR-10 Batch 4:  loss:0.3683834969997406, accuracy:0.6234000124931336\n",
      "Epoch  5, CIFAR-10 Batch 5:  loss:0.3832281827926636, accuracy:0.6380000138282775\n",
      "Epoch  6, CIFAR-10 Batch 1:  loss:0.36534810066223145, accuracy:0.6050000081062317\n",
      "Epoch  6, CIFAR-10 Batch 2:  loss:0.32542333006858826, accuracy:0.6232000114917755\n",
      "Epoch  6, CIFAR-10 Batch 3:  loss:0.21858757734298706, accuracy:0.644600013256073\n",
      "Epoch  6, CIFAR-10 Batch 4:  loss:0.2291603684425354, accuracy:0.6242000093460083\n",
      "Epoch  6, CIFAR-10 Batch 5:  loss:0.2171410769224167, accuracy:0.6474000108242035\n",
      "Epoch  7, CIFAR-10 Batch 1:  loss:0.26462188363075256, accuracy:0.6096000101566315\n",
      "Epoch  7, CIFAR-10 Batch 2:  loss:0.21354708075523376, accuracy:0.6510000109672547\n",
      "Epoch  7, CIFAR-10 Batch 3:  loss:0.22067967057228088, accuracy:0.6298000106811523\n",
      "Epoch  7, CIFAR-10 Batch 4:  loss:0.1563265323638916, accuracy:0.6386000123023987\n",
      "Epoch  7, CIFAR-10 Batch 5:  loss:0.150827556848526, accuracy:0.6526000127792358\n",
      "Epoch  8, CIFAR-10 Batch 1:  loss:0.33611077070236206, accuracy:0.6150000119209289\n",
      "Epoch  8, CIFAR-10 Batch 2:  loss:0.1396724134683609, accuracy:0.6478000116348267\n",
      "Epoch  8, CIFAR-10 Batch 3:  loss:0.14544281363487244, accuracy:0.6346000123023987\n",
      "Epoch  8, CIFAR-10 Batch 4:  loss:0.1249903216958046, accuracy:0.6432000098228454\n",
      "Epoch  8, CIFAR-10 Batch 5:  loss:0.11856240034103394, accuracy:0.64660001039505\n",
      "Epoch  9, CIFAR-10 Batch 1:  loss:0.2404058873653412, accuracy:0.6350000112056732\n",
      "Epoch  9, CIFAR-10 Batch 2:  loss:0.12422523647546768, accuracy:0.6434000160694122\n",
      "Epoch  9, CIFAR-10 Batch 3:  loss:0.09315918385982513, accuracy:0.6444000120162964\n",
      "Epoch  9, CIFAR-10 Batch 4:  loss:0.09854641556739807, accuracy:0.6504000134468079\n",
      "Epoch  9, CIFAR-10 Batch 5:  loss:0.06430085003376007, accuracy:0.6528000178337097\n",
      "Epoch 10, CIFAR-10 Batch 1:  loss:0.18030263483524323, accuracy:0.6278000113964081\n",
      "Epoch 10, CIFAR-10 Batch 2:  loss:0.11825042963027954, accuracy:0.6456000108718872\n",
      "Epoch 10, CIFAR-10 Batch 3:  loss:0.07423669099807739, accuracy:0.6360000114440918\n",
      "Epoch 10, CIFAR-10 Batch 4:  loss:0.05483498424291611, accuracy:0.650000009059906\n",
      "Epoch 10, CIFAR-10 Batch 5:  loss:0.03519511595368385, accuracy:0.6540000092983246\n",
      "Epoch 11, CIFAR-10 Batch 1:  loss:0.12525980174541473, accuracy:0.6334000136852265\n",
      "Epoch 11, CIFAR-10 Batch 2:  loss:0.06877394765615463, accuracy:0.6398000137805939\n",
      "Epoch 11, CIFAR-10 Batch 3:  loss:0.037125054746866226, accuracy:0.6466000182628632\n",
      "Epoch 11, CIFAR-10 Batch 4:  loss:0.03122122213244438, accuracy:0.6648000102043152\n",
      "Epoch 11, CIFAR-10 Batch 5:  loss:0.017527520656585693, accuracy:0.6478000090122223\n",
      "Epoch 12, CIFAR-10 Batch 1:  loss:0.07823917269706726, accuracy:0.6280000119209289\n",
      "Epoch 12, CIFAR-10 Batch 2:  loss:0.048334941267967224, accuracy:0.6304000124931336\n",
      "Epoch 12, CIFAR-10 Batch 3:  loss:0.03939256817102432, accuracy:0.6292000107765198\n",
      "Epoch 12, CIFAR-10 Batch 4:  loss:0.03339037299156189, accuracy:0.661400013923645\n",
      "Epoch 12, CIFAR-10 Batch 5:  loss:0.018696479499340057, accuracy:0.6554000165462494\n",
      "Epoch 13, CIFAR-10 Batch 1:  loss:0.034939251840114594, accuracy:0.6434000127315521\n",
      "Epoch 13, CIFAR-10 Batch 2:  loss:0.03799280896782875, accuracy:0.6412000114917755\n",
      "Epoch 13, CIFAR-10 Batch 3:  loss:0.01693647913634777, accuracy:0.6266000170707703\n",
      "Epoch 13, CIFAR-10 Batch 4:  loss:0.04159892350435257, accuracy:0.6444000108242035\n",
      "Epoch 13, CIFAR-10 Batch 5:  loss:0.008259999565780163, accuracy:0.6400000131130219\n",
      "Epoch 14, CIFAR-10 Batch 1:  loss:0.022211527451872826, accuracy:0.6266000099182129\n",
      "Epoch 14, CIFAR-10 Batch 2:  loss:0.03280474245548248, accuracy:0.6328000104427338\n",
      "Epoch 14, CIFAR-10 Batch 3:  loss:0.023236561566591263, accuracy:0.6218000113964081\n",
      "Epoch 14, CIFAR-10 Batch 4:  loss:0.0381183996796608, accuracy:0.6262000112533569\n",
      "Epoch 14, CIFAR-10 Batch 5:  loss:0.009387044236063957, accuracy:0.6538000159263611\n",
      "Epoch 15, CIFAR-10 Batch 1:  loss:0.013430123217403889, accuracy:0.6400000128746033\n",
      "Epoch 15, CIFAR-10 Batch 2:  loss:0.03712146356701851, accuracy:0.6380000104904174\n",
      "Epoch 15, CIFAR-10 Batch 3:  loss:0.00478660361841321, accuracy:0.6534000115394593\n",
      "Epoch 15, CIFAR-10 Batch 4:  loss:0.00693782651796937, accuracy:0.636200008392334\n",
      "Epoch 15, CIFAR-10 Batch 5:  loss:0.006671861279755831, accuracy:0.6242000093460083\n"
     ]
    }
   ],
   "source": [
    "\"\"\"\n",
    "DON'T MODIFY ANYTHING IN THIS CELL\n",
    "\"\"\"\n",
    "save_model_path = './image_classification'\n",
    "\n",
    "print('Training...')\n",
    "with tf.Session() as sess:\n",
    "    # Initializing the variables\n",
    "    sess.run(tf.global_variables_initializer())\n",
    "    \n",
    "    # Training cycle\n",
    "    for epoch in range(epochs):\n",
    "        # Loop over all batches\n",
    "        n_batches = 5\n",
    "        for batch_i in range(1, n_batches + 1):\n",
    "            for batch_features, batch_labels in helper.load_preprocess_training_batch(batch_i, batch_size):\n",
    "                train_neural_network(sess, optimizer, keep_probability, batch_features, batch_labels)\n",
    "            print('Epoch {:>2}, CIFAR-10 Batch {}:  '.format(epoch + 1, batch_i), end='')\n",
    "            print_stats(sess, batch_features, batch_labels, cost, accuracy)\n",
    "            \n",
    "    # Save Model\n",
    "    saver = tf.train.Saver()\n",
    "    save_path = saver.save(sess, save_model_path)"
   ]
  },
  {
   "cell_type": "markdown",
   "metadata": {
    "deletable": true,
    "editable": true
   },
   "source": [
    "# Checkpoint\n",
    "The model has been saved to disk.\n",
    "## Test Model\n",
    "Test your model against the test dataset.  This will be your final accuracy. You should have an accuracy greater than 50%. If you don't, keep tweaking the model architecture and parameters."
   ]
  },
  {
   "cell_type": "code",
   "execution_count": 17,
   "metadata": {
    "collapsed": false,
    "deletable": true,
    "editable": true
   },
   "outputs": [
    {
     "name": "stdout",
     "output_type": "stream",
     "text": [
      "Testing Accuracy: 0.62509765625\n",
      "\n"
     ]
    },
    {
     "data": {
      "image/png": "[encoded data removed]",
      "text/plain": [
       "<matplotlib.figure.Figure at 0x7f766fe19ef0>"
      ]
     },
     "metadata": {
      "image/png": {
       "height": 319,
       "width": 355
      }
     },
     "output_type": "display_data"
    }
   ],
   "source": [
    "\"\"\"\n",
    "DON'T MODIFY ANYTHING IN THIS CELL\n",
    "\"\"\"\n",
    "%matplotlib inline\n",
    "%config InlineBackend.figure_format = 'retina'\n",
    "\n",
    "import tensorflow as tf\n",
    "import pickle\n",
    "import helper\n",
    "import random\n",
    "\n",
    "# Set batch size if not already set\n",
    "try:\n",
    "    if batch_size:\n",
    "        pass\n",
    "except NameError:\n",
    "    batch_size = 64\n",
    "\n",
    "save_model_path = './image_classification'\n",
    "n_samples = 4\n",
    "top_n_predictions = 3\n",
    "\n",
    "def test_model():\n",
    "    \"\"\"\n",
    "    Test the saved model against the test dataset\n",
    "    \"\"\"\n",
    "\n",
    "    test_features, test_labels = pickle.load(open('preprocess_training.p', mode='rb'))\n",
    "    loaded_graph = tf.Graph()\n",
    "\n",
    "    with tf.Session(graph=loaded_graph) as sess:\n",
    "        # Load model\n",
    "        loader = tf.train.import_meta_graph(save_model_path + '.meta')\n",
    "        loader.restore(sess, save_model_path)\n",
    "\n",
    "        # Get Tensors from loaded model\n",
    "        loaded_x = loaded_graph.get_tensor_by_name('x:0')\n",
    "        loaded_y = loaded_graph.get_tensor_by_name('y:0')\n",
    "        loaded_keep_prob = loaded_graph.get_tensor_by_name('keep_prob:0')\n",
    "        loaded_logits = loaded_graph.get_tensor_by_name('logits:0')\n",
    "        loaded_acc = loaded_graph.get_tensor_by_name('accuracy:0')\n",
    "        \n",
    "        # Get accuracy in batches for memory limitations\n",
    "        test_batch_acc_total = 0\n",
    "        test_batch_count = 0\n",
    "        \n",
    "        for train_feature_batch, train_label_batch in helper.batch_features_labels(test_features, test_labels, batch_size):\n",
    "            test_batch_acc_total += sess.run(\n",
    "                loaded_acc,\n",
    "                feed_dict={loaded_x: train_feature_batch, loaded_y: train_label_batch, loaded_keep_prob: 1.0})\n",
    "            test_batch_count += 1\n",
    "\n",
    "        print('Testing Accuracy: {}\\n'.format(test_batch_acc_total/test_batch_count))\n",
    "\n",
    "        # Print Random Samples\n",
    "        random_test_features, random_test_labels = tuple(zip(*random.sample(list(zip(test_features, test_labels)), n_samples)))\n",
    "        random_test_predictions = sess.run(\n",
    "            tf.nn.top_k(tf.nn.softmax(loaded_logits), top_n_predictions),\n",
    "            feed_dict={loaded_x: random_test_features, loaded_y: random_test_labels, loaded_keep_prob: 1.0})\n",
    "        helper.display_image_predictions(random_test_features, random_test_labels, random_test_predictions)\n",
    "\n",
    "\n",
    "test_model()"
   ]
  },
  {
   "cell_type": "markdown",
   "metadata": {
    "deletable": true,
    "editable": true
   },
   "source": [
    "## Why 50-70% Accuracy?\n",
    "You might be wondering why you can't get an accuracy any higher. First things first, 50% isn't bad for a simple CNN.  Pure guessing would get you 10% accuracy. However, you might notice people are getting scores [well above 70%](http://rodrigob.github.io/are_we_there_yet/build/classification_datasets_results.html#43494641522d3130).  That's because we haven't taught you all there is to know about neural networks. We still need to cover a few more techniques.\n",
    "## Submitting This Project\n",
    "When submitting this project, make sure to run all the cells before saving the notebook.  Save the notebook file as \"dlnd_image_classification.ipynb\" and save it as a HTML file under \"File\" -> \"Download as\".  Include the \"helper.py\" and \"problem_unittests.py\" files in your submission."
   ]
  }
 ],
 "metadata": {
  "kernelspec": {
   "display_name": "Python 3",
   "language": "python",
   "name": "python3"
  },
  "language_info": {
   "codemirror_mode": {
    "name": "ipython",
    "version": 3
   },
   "file_extension": ".py",
   "mimetype": "text/x-python",
   "name": "python",
   "nbconvert_exporter": "python",
   "pygments_lexer": "ipython3",
   "version": "3.5.2"
  },
  "widgets": {
   "state": {},
   "version": "1.1.2"
  }
 },
 "nbformat": 4,
 "nbformat_minor": 0
}
