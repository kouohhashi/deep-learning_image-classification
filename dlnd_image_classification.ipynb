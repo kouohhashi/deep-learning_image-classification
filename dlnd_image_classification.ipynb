{
 "cells": [
  {
   "cell_type": "markdown",
   "metadata": {
    "collapsed": true,
    "deletable": true,
    "editable": true
   },
   "source": [
    "# Image Classification\n",
    "In this project, you'll classify images from the [CIFAR-10 dataset](https://www.cs.toronto.edu/~kriz/cifar.html).  The dataset consists of airplanes, dogs, cats, and other objects. You'll preprocess the images, then train a convolutional neural network on all the samples. The images need to be normalized and the labels need to be one-hot encoded.  You'll get to apply what you learned and build a convolutional, max pooling, dropout, and fully connected layers.  At the end, you'll get to see your neural network's predictions on the sample images.\n",
    "## Get the Data\n",
    "Run the following cell to download the [CIFAR-10 dataset for python](https://www.cs.toronto.edu/~kriz/cifar-10-python.tar.gz)."
   ]
  },
  {
   "cell_type": "code",
   "execution_count": 1,
   "metadata": {
    "collapsed": false,
    "deletable": true,
    "editable": true
   },
   "outputs": [
    {
     "name": "stdout",
     "output_type": "stream",
     "text": [
      "All files found!\n"
     ]
    }
   ],
   "source": [
    "\"\"\"\n",
    "DON'T MODIFY ANYTHING IN THIS CELL THAT IS BELOW THIS LINE\n",
    "\"\"\"\n",
    "from urllib.request import urlretrieve\n",
    "from os.path import isfile, isdir\n",
    "from tqdm import tqdm\n",
    "import problem_unittests as tests\n",
    "import tarfile\n",
    "\n",
    "cifar10_dataset_folder_path = 'cifar-10-batches-py'\n",
    "\n",
    "class DLProgress(tqdm):\n",
    "    last_block = 0\n",
    "\n",
    "    def hook(self, block_num=1, block_size=1, total_size=None):\n",
    "        self.total = total_size\n",
    "        self.update((block_num - self.last_block) * block_size)\n",
    "        self.last_block = block_num\n",
    "\n",
    "if not isfile('cifar-10-python.tar.gz'):\n",
    "    with DLProgress(unit='B', unit_scale=True, miniters=1, desc='CIFAR-10 Dataset') as pbar:\n",
    "        urlretrieve(\n",
    "            'https://www.cs.toronto.edu/~kriz/cifar-10-python.tar.gz',\n",
    "            'cifar-10-python.tar.gz',\n",
    "            pbar.hook)\n",
    "\n",
    "if not isdir(cifar10_dataset_folder_path):\n",
    "    with tarfile.open('cifar-10-python.tar.gz') as tar:\n",
    "        tar.extractall()\n",
    "        tar.close()\n",
    "\n",
    "\n",
    "tests.test_folder_path(cifar10_dataset_folder_path)"
   ]
  },
  {
   "cell_type": "markdown",
   "metadata": {
    "deletable": true,
    "editable": true
   },
   "source": [
    "## Explore the Data\n",
    "The dataset is broken into batches to prevent your machine from running out of memory.  The CIFAR-10 dataset consists of 5 batches, named `data_batch_1`, `data_batch_2`, etc.. Each batch contains the labels and images that are one of the following:\n",
    "* airplane\n",
    "* automobile\n",
    "* bird\n",
    "* cat\n",
    "* deer\n",
    "* dog\n",
    "* frog\n",
    "* horse\n",
    "* ship\n",
    "* truck\n",
    "\n",
    "Understanding a dataset is part of making predictions on the data.  Play around with the code cell below by changing the `batch_id` and `sample_id`. The `batch_id` is the id for a batch (1-5). The `sample_id` is the id for a image and label pair in the batch.\n",
    "\n",
    "Ask yourself \"What are all possible labels?\", \"What is the range of values for the image data?\", \"Are the labels in order or random?\".  Answers to questions like these will help you preprocess the data and end up with better predictions."
   ]
  },
  {
   "cell_type": "code",
   "execution_count": 2,
   "metadata": {
    "collapsed": false,
    "deletable": true,
    "editable": true
   },
   "outputs": [
    {
     "name": "stdout",
     "output_type": "stream",
     "text": [
      "\n",
      "Stats of batch 2:\n",
      "Samples: 10000\n",
      "Label Counts: {0: 984, 1: 1007, 2: 1010, 3: 995, 4: 1010, 5: 988, 6: 1008, 7: 1026, 8: 987, 9: 985}\n",
      "First 20 Labels: [1, 6, 6, 8, 8, 3, 4, 6, 0, 6, 0, 3, 6, 6, 5, 4, 8, 3, 2, 6]\n",
      "\n",
      "Example of Image 29:\n",
      "Image - Min Value: 4 Max Value: 248\n",
      "Image - Shape: (32, 32, 3)\n",
      "Label - Label Id: 6 Name: frog\n"
     ]
    },
    {
     "data": {
      "image/png": "[encoded data removed]",
      "text/plain": [
       "<matplotlib.figure.Figure at 0x7fa17828be48>"
      ]
     },
     "metadata": {
      "image/png": {
       "height": 250,
       "width": 253
      }
     },
     "output_type": "display_data"
    }
   ],
   "source": [
    "%matplotlib inline\n",
    "%config InlineBackend.figure_format = 'retina'\n",
    "\n",
    "import helper\n",
    "import numpy as np\n",
    "\n",
    "# Explore the dataset\n",
    "batch_id = 2\n",
    "sample_id = 29\n",
    "helper.display_stats(cifar10_dataset_folder_path, batch_id, sample_id)"
   ]
  },
  {
   "cell_type": "markdown",
   "metadata": {
    "deletable": true,
    "editable": true
   },
   "source": [
    "## Implement Preprocess Functions\n",
    "### Normalize\n",
    "In the cell below, implement the `normalize` function to take in image data, `x`, and return it as a normalized Numpy array. The values should be in the range of 0 to 1, inclusive.  The return object should be the same shape as `x`."
   ]
  },
  {
   "cell_type": "code",
   "execution_count": 3,
   "metadata": {
    "collapsed": false,
    "deletable": true,
    "editable": true
   },
   "outputs": [
    {
     "name": "stdout",
     "output_type": "stream",
     "text": [
      "Tests Passed\n"
     ]
    }
   ],
   "source": [
    "def normalize(x):\n",
    "    \"\"\"\n",
    "    Normalize a list of sample image data in the range of 0 to 1\n",
    "    : x: List of image data.  The image shape is (32, 32, 3)\n",
    "    : return: Numpy array of normalize data\n",
    "    \"\"\"\n",
    "    # TODO: Implement Function\n",
    "    \n",
    "#     # use list\n",
    "#     for i in range(len(x)):\n",
    "#         # print(len(x[i]))\n",
    "#         for j in range( len(x[i]) ):\n",
    "#             for k in range( len(x[i][j]) ):\n",
    "#                 # print(len(x[i][j][k]))\n",
    "#                 for l in range( len(x[i][j][k]) ):\n",
    "#                     x[i][j][k][l] = x[i][j][k][l]/255\n",
    "    \n",
    "    # oops no need to use mean and std\n",
    "    x2 = np.array(x)\n",
    "    # x2_mean = np.mean(x2)\n",
    "    # x2_std = np.std(x2)\n",
    "    # print(\"mean:{}, std:{}\".format(x2_mean, x2_std))\n",
    "    \n",
    "    lam1 = lambda t: t / 255.0\n",
    "    x2 = np.array([lam1(xi) for xi in x2])\n",
    "    \n",
    "    return np.array(x2)\n",
    "\n",
    "\n",
    "\"\"\"\n",
    "DON'T MODIFY ANYTHING IN THIS CELL THAT IS BELOW THIS LINE\n",
    "\"\"\"\n",
    "tests.test_normalize(normalize)"
   ]
  },
  {
   "cell_type": "markdown",
   "metadata": {
    "deletable": true,
    "editable": true
   },
   "source": [
    "### One-hot encode\n",
    "Just like the previous code cell, you'll be implementing a function for preprocessing.  This time, you'll implement the `one_hot_encode` function. The input, `x`, are a list of labels.  Implement the function to return the list of labels as One-Hot encoded Numpy array.  The possible values for labels are 0 to 9. The one-hot encoding function should return the same encoding for each value between each call to `one_hot_encode`.  Make sure to save the map of encodings outside the function.\n",
    "\n",
    "Hint: Don't reinvent the wheel."
   ]
  },
  {
   "cell_type": "code",
   "execution_count": 4,
   "metadata": {
    "collapsed": false,
    "deletable": true,
    "editable": true
   },
   "outputs": [
    {
     "name": "stdout",
     "output_type": "stream",
     "text": [
      "Tests Passed\n"
     ]
    }
   ],
   "source": [
    "def one_hot_encode(x):\n",
    "    \"\"\"\n",
    "    One hot encode a list of sample labels. Return a one-hot encoded vector for each label.\n",
    "    : x: List of sample Labels\n",
    "    : return: Numpy array of one-hot encoded labels\n",
    "    \"\"\"\n",
    "    # TODO: Implement Function\n",
    "    \n",
    "    def one_hot_encode1(arg0):\n",
    "        if arg0 == 0:\n",
    "            return np.array([1,0,0,0,0,0,0,0,0,0])\n",
    "        elif arg0 == 1:\n",
    "            return np.array([0,1,0,0,0,0,0,0,0,0])\n",
    "        elif arg0 == 2:\n",
    "            return np.array([0,0,1,0,0,0,0,0,0,0])\n",
    "        elif arg0 == 3:\n",
    "            return np.array([0,0,0,1,0,0,0,0,0,0])\n",
    "        elif arg0 == 4:\n",
    "            return np.array([0,0,0,0,1,0,0,0,0,0])\n",
    "        elif arg0 == 5:\n",
    "            return np.array([0,0,0,0,0,1,0,0,0,0])\n",
    "        elif arg0 == 6:\n",
    "            return np.array([0,0,0,0,0,0,1,0,0,0])\n",
    "        elif arg0 == 7:\n",
    "            return np.array([0,0,0,0,0,0,0,1,0,0])\n",
    "        elif arg0 == 8:\n",
    "            return np.array([0,0,0,0,0,0,0,0,1,0])\n",
    "        elif arg0 == 9:\n",
    "            return np.array([0,0,0,0,0,0,0,0,0,1])\n",
    "    \n",
    "    \n",
    "    x = np.array([one_hot_encode1(xi) for xi in x])\n",
    "    \n",
    "#     for i in range(len(x)):\n",
    "#         if x[i] == 0:\n",
    "#             x2[i] = np.array([1,0,0,0,0,0,0,0,0,0])\n",
    "#         elif x[i] == 1:\n",
    "#             x2[i] = np.array([0,1,0,0,0,0,0,0,0,0])\n",
    "#         elif x[i] == 2:\n",
    "#             x2[i] = np.array([0,0,1,0,0,0,0,0,0,0])\n",
    "#         elif x[i] == 3:\n",
    "#             x2[i] = np.array([0,0,0,1,0,0,0,0,0,0])\n",
    "#         elif x[i] == 4:\n",
    "#             x2[i] = np.array([0,0,0,0,1,0,0,0,0,0])\n",
    "#         elif x[i] == 5:\n",
    "#             x2[i] = np.array([0,0,0,0,0,1,0,0,0,0])\n",
    "#         elif x[i] == 6:\n",
    "#             x2[i] = np.array([0,0,0,0,0,0,1,0,0,0])\n",
    "#         elif x[i] == 7:\n",
    "#             x2[i] = np.array([0,0,0,0,0,0,0,1,0,0])\n",
    "#         elif x[i] == 8:\n",
    "#             x2[i] = np.array([0,0,0,0,0,0,0,0,1,0])\n",
    "#         elif x[i] == 9:\n",
    "#             x2[i] = np.array([0,0,0,0,0,0,0,0,0,1])\n",
    "        \n",
    "#     print(x.shape)\n",
    "        \n",
    "    return x\n",
    "\n",
    "\n",
    "\"\"\"\n",
    "DON'T MODIFY ANYTHING IN THIS CELL THAT IS BELOW THIS LINE\n",
    "\"\"\"\n",
    "tests.test_one_hot_encode(one_hot_encode)"
   ]
  },
  {
   "cell_type": "markdown",
   "metadata": {
    "deletable": true,
    "editable": true
   },
   "source": [
    "### Randomize Data\n",
    "As you saw from exploring the data above, the order of the samples are randomized.  It doesn't hurt to randomize it again, but you don't need to for this dataset."
   ]
  },
  {
   "cell_type": "markdown",
   "metadata": {
    "deletable": true,
    "editable": true
   },
   "source": [
    "## Preprocess all the data and save it\n",
    "Running the code cell below will preprocess all the CIFAR-10 data and save it to file. The code below also uses 10% of the training data for validation."
   ]
  },
  {
   "cell_type": "code",
   "execution_count": 5,
   "metadata": {
    "collapsed": false,
    "deletable": true,
    "editable": true
   },
   "outputs": [],
   "source": [
    "\"\"\"\n",
    "DON'T MODIFY ANYTHING IN THIS CELL\n",
    "\"\"\"\n",
    "# Preprocess Training, Validation, and Testing Data\n",
    "helper.preprocess_and_save_data(cifar10_dataset_folder_path, normalize, one_hot_encode)"
   ]
  },
  {
   "cell_type": "markdown",
   "metadata": {
    "deletable": true,
    "editable": true
   },
   "source": [
    "# Check Point\n",
    "This is your first checkpoint.  If you ever decide to come back to this notebook or have to restart the notebook, you can start from here.  The preprocessed data has been saved to disk."
   ]
  },
  {
   "cell_type": "code",
   "execution_count": 23,
   "metadata": {
    "collapsed": true,
    "deletable": true,
    "editable": true
   },
   "outputs": [],
   "source": [
    "\"\"\"\n",
    "DON'T MODIFY ANYTHING IN THIS CELL\n",
    "\"\"\"\n",
    "import pickle\n",
    "import problem_unittests as tests\n",
    "import helper\n",
    "\n",
    "# Load the Preprocessed Validation data\n",
    "valid_features, valid_labels = pickle.load(open('preprocess_validation.p', mode='rb'))"
   ]
  },
  {
   "cell_type": "markdown",
   "metadata": {
    "deletable": true,
    "editable": true
   },
   "source": [
    "## Build the network\n",
    "For the neural network, you'll build each layer into a function.  Most of the code you've seen has been outside of functions. To test your code more thoroughly, we require that you put each layer in a function.  This allows us to give you better feedback and test for simple mistakes using our unittests before you submit your project.\n",
    "\n",
    ">**Note:** If you're finding it hard to dedicate enough time for this course each week, we've provided a small shortcut to this part of the project. In the next couple of problems, you'll have the option to use classes from the [TensorFlow Layers](https://www.tensorflow.org/api_docs/python/tf/layers) or [TensorFlow Layers (contrib)](https://www.tensorflow.org/api_guides/python/contrib.layers) packages to build each layer, except the layers you build in the \"Convolutional and Max Pooling Layer\" section.  TF Layers is similar to Keras's and TFLearn's abstraction to layers, so it's easy to pickup.\n",
    "\n",
    ">However, if you would like to get the most out of this course, try to solve all the problems _without_ using anything from the TF Layers packages. You **can** still use classes from other packages that happen to have the same name as ones you find in TF Layers! For example, instead of using the TF Layers version of the `conv2d` class, [tf.layers.conv2d](https://www.tensorflow.org/api_docs/python/tf/layers/conv2d), you would want to use the TF Neural Network version of `conv2d`, [tf.nn.conv2d](https://www.tensorflow.org/api_docs/python/tf/nn/conv2d). \n",
    "\n",
    "Let's begin!\n",
    "\n",
    "### Input\n",
    "The neural network needs to read the image data, one-hot encoded labels, and dropout keep probability. Implement the following functions\n",
    "* Implement `neural_net_image_input`\n",
    " * Return a [TF Placeholder](https://www.tensorflow.org/api_docs/python/tf/placeholder)\n",
    " * Set the shape using `image_shape` with batch size set to `None`.\n",
    " * Name the TensorFlow placeholder \"x\" using the TensorFlow `name` parameter in the [TF Placeholder](https://www.tensorflow.org/api_docs/python/tf/placeholder).\n",
    "* Implement `neural_net_label_input`\n",
    " * Return a [TF Placeholder](https://www.tensorflow.org/api_docs/python/tf/placeholder)\n",
    " * Set the shape using `n_classes` with batch size set to `None`.\n",
    " * Name the TensorFlow placeholder \"y\" using the TensorFlow `name` parameter in the [TF Placeholder](https://www.tensorflow.org/api_docs/python/tf/placeholder).\n",
    "* Implement `neural_net_keep_prob_input`\n",
    " * Return a [TF Placeholder](https://www.tensorflow.org/api_docs/python/tf/placeholder) for dropout keep probability.\n",
    " * Name the TensorFlow placeholder \"keep_prob\" using the TensorFlow `name` parameter in the [TF Placeholder](https://www.tensorflow.org/api_docs/python/tf/placeholder).\n",
    "\n",
    "These names will be used at the end of the project to load your saved model.\n",
    "\n",
    "Note: `None` for shapes in TensorFlow allow for a dynamic size."
   ]
  },
  {
   "cell_type": "code",
   "execution_count": 24,
   "metadata": {
    "collapsed": false,
    "deletable": true,
    "editable": true
   },
   "outputs": [
    {
     "name": "stdout",
     "output_type": "stream",
     "text": [
      "Image Input Tests Passed.\n",
      "Label Input Tests Passed.\n",
      "Keep Prob Tests Passed.\n"
     ]
    }
   ],
   "source": [
    "import tensorflow as tf\n",
    "\n",
    "def neural_net_image_input(image_shape):\n",
    "    \"\"\"\n",
    "    Return a Tensor for a bach of image input\n",
    "    : image_shape: Shape of the images\n",
    "    : return: Tensor for image input.\n",
    "    \"\"\"\n",
    "    # TODO: Implement Function\n",
    "    return tf.placeholder(tf.float32, shape=(None, 32, 32, 3), name=\"x\")\n",
    "\n",
    "\n",
    "def neural_net_label_input(n_classes):\n",
    "    \"\"\"\n",
    "    Return a Tensor for a batch of label input\n",
    "    : n_classes: Number of classes\n",
    "    : return: Tensor for label input.\n",
    "    \"\"\"\n",
    "    # TODO: Implement Function\n",
    "    return tf.placeholder(tf.float32, shape=(None, n_classes), name=\"y\")\n",
    "\n",
    "\n",
    "\n",
    "def neural_net_keep_prob_input():\n",
    "    \"\"\"\n",
    "    Return a Tensor for keep probability\n",
    "    : return: Tensor for keep probability.\n",
    "    \"\"\"\n",
    "    # TODO: Implement Function\n",
    "    return  tf.placeholder(tf.float32, name=\"keep_prob\")\n",
    "\n",
    "\n",
    "\"\"\"\n",
    "DON'T MODIFY ANYTHING IN THIS CELL THAT IS BELOW THIS LINE\n",
    "\"\"\"\n",
    "tf.reset_default_graph()\n",
    "tests.test_nn_image_inputs(neural_net_image_input)\n",
    "tests.test_nn_label_inputs(neural_net_label_input)\n",
    "tests.test_nn_keep_prob_inputs(neural_net_keep_prob_input)"
   ]
  },
  {
   "cell_type": "markdown",
   "metadata": {
    "deletable": true,
    "editable": true
   },
   "source": [
    "### Convolution and Max Pooling Layer\n",
    "Convolution layers have a lot of success with images. For this code cell, you should implement the function `conv2d_maxpool` to apply convolution then max pooling:\n",
    "* Create the weight and bias using `conv_ksize`, `conv_num_outputs` and the shape of `x_tensor`.\n",
    "* Apply a convolution to `x_tensor` using weight and `conv_strides`.\n",
    " * We recommend you use same padding, but you're welcome to use any padding.\n",
    "* Add bias\n",
    "* Add a nonlinear activation to the convolution.\n",
    "* Apply Max Pooling using `pool_ksize` and `pool_strides`.\n",
    " * We recommend you use same padding, but you're welcome to use any padding.\n",
    "\n",
    "**Note:** You **can't** use [TensorFlow Layers](https://www.tensorflow.org/api_docs/python/tf/layers) or [TensorFlow Layers (contrib)](https://www.tensorflow.org/api_guides/python/contrib.layers) for **this** layer, but you can still use TensorFlow's [Neural Network](https://www.tensorflow.org/api_docs/python/tf/nn) package. You may still use the shortcut option for all the **other** layers."
   ]
  },
  {
   "cell_type": "code",
   "execution_count": 25,
   "metadata": {
    "collapsed": false,
    "deletable": true,
    "editable": true
   },
   "outputs": [
    {
     "name": "stdout",
     "output_type": "stream",
     "text": [
      "Tests Passed\n"
     ]
    }
   ],
   "source": [
    "import math\n",
    "\n",
    "def conv2d_maxpool(x_tensor, conv_num_outputs, conv_ksize, conv_strides, pool_ksize, pool_strides):\n",
    "    \"\"\"\n",
    "    Apply convolution then max pooling to x_tensor\n",
    "    :param x_tensor: TensorFlow Tensor\n",
    "    :param conv_num_outputs: Number of outputs for the convolutional layer\n",
    "    :param conv_ksize: kernal size 2-D Tuple for the convolutional layer\n",
    "    :param conv_strides: Stride 2-D Tuple for convolution\n",
    "    :param pool_ksize: kernal size 2-D Tuple for pool\n",
    "    :param pool_strides: Stride 2-D Tuple for pool\n",
    "    : return: A tensor that represents convolution and max pooling of x_tensor\n",
    "    \"\"\"\n",
    "    # TODO: Implement Function\n",
    "    \n",
    "    # get dimension\n",
    "    _, in_height, in_width, depth = x_tensor.shape\n",
    "    \n",
    "    # 'VALID'\n",
    "    \n",
    "#     in_height = int(in_height)\n",
    "#     in_width = int(in_width)\n",
    "#     print(\"in_height:{}\".format(in_height))\n",
    "#     print(\"{}\".format(conv_ksize))\n",
    "#     print(conv_strides)\n",
    "\n",
    "#     out_height = math.ceil(float(in_height - conv_ksize[0] + 1) / float(conv_strides[0]))\n",
    "#     out_width = math.ceil(float(in_width - conv_ksize[1] + 1) / float(conv_strides[1]))\n",
    "\n",
    "#     # weights and biases \n",
    "#     # weight_1 = tf.Variable(tf.random_norm([out_height, out_width, int(depth), conv_num_outputs],mean=0.0,stddev = 0.1))    \n",
    "#     weight_1 = tf.Variable(tf.truncated_normal([out_height, out_width, int(depth), conv_num_outputs]))\n",
    "#     bias_1 = tf.Variable(tf.zeros([conv_num_outputs]));\n",
    "\n",
    "#     # convolution\n",
    "#     output_1 = tf.nn.conv2d(x_tensor, weight_1, strides=[1, conv_strides[0], conv_strides[1], 1], padding='VALID')\n",
    "\n",
    "#     # add bias\n",
    "#     output_1 = tf.nn.bias_add(output_1, bias_1)\n",
    "\n",
    "#     # use relu as nolinear function\n",
    "#     output_1 = tf.nn.relu(output_1)\n",
    "\n",
    "#     # Maxpooling\n",
    "#     output_1 = tf.nn.max_pool(output_1, \n",
    "#                               ksize=[1, pool_ksize[0], pool_ksize[1], 1],\n",
    "#                               strides=[1, pool_strides[0], pool_strides[1], 1], \n",
    "#                               padding='SAME')\n",
    "    \n",
    "#     print(output_1.shape)\n",
    "    \n",
    "    # 'SAME'\n",
    "    \n",
    "    weight_1 = tf.Variable(tf.truncated_normal([conv_ksize[0],\n",
    "                                                conv_ksize[1],\n",
    "                                                int(depth),\n",
    "                                                conv_num_outputs],\n",
    "                                               mean=0.0,\n",
    "                                               stddev=0.1))\n",
    "    \n",
    "    bias_1 = tf.Variable(tf.truncated_normal([conv_num_outputs],\n",
    "                                               mean=0.0,\n",
    "                                               stddev=0.1))\n",
    "    # bias_1 = tf.Variable(tf.zeros([conv_num_outputs]));\n",
    "\n",
    "    # convolution\n",
    "    # what is the shape of weight? if i use 'SAME' can i use conv_ksize?\n",
    "    output_1 = tf.nn.conv2d(x_tensor, weight_1, strides=[1, conv_strides[0], conv_strides[1], 1], padding='SAME')\n",
    "    \n",
    "    # add bias\n",
    "    output_1 = tf.nn.bias_add(output_1, bias_1)\n",
    "    \n",
    "    # use relu as nolinear function\n",
    "    output_1 = tf.nn.relu(output_1)\n",
    "    \n",
    "    # Maxpooling\n",
    "    output_1 = tf.nn.max_pool(output_1, \n",
    "                              ksize=[1, pool_ksize[0], pool_ksize[1], 1],\n",
    "                              strides=[1, pool_strides[0], pool_strides[1], 1], \n",
    "                              padding='SAME')\n",
    "    \n",
    "    return output_1\n",
    "\n",
    "\n",
    "\"\"\"\n",
    "DON'T MODIFY ANYTHING IN THIS CELL THAT IS BELOW THIS LINE\n",
    "\"\"\"\n",
    "tests.test_con_pool(conv2d_maxpool)"
   ]
  },
  {
   "cell_type": "markdown",
   "metadata": {
    "deletable": true,
    "editable": true
   },
   "source": [
    "### Flatten Layer\n",
    "Implement the `flatten` function to change the dimension of `x_tensor` from a 4-D tensor to a 2-D tensor.  The output should be the shape (*Batch Size*, *Flattened Image Size*). Shortcut option: you can use classes from the [TensorFlow Layers](https://www.tensorflow.org/api_docs/python/tf/layers) or [TensorFlow Layers (contrib)](https://www.tensorflow.org/api_guides/python/contrib.layers) packages for this layer. For more of a challenge, only use other TensorFlow packages."
   ]
  },
  {
   "cell_type": "code",
   "execution_count": 26,
   "metadata": {
    "collapsed": false,
    "deletable": true,
    "editable": true
   },
   "outputs": [
    {
     "name": "stdout",
     "output_type": "stream",
     "text": [
      "Tests Passed\n"
     ]
    }
   ],
   "source": [
    "def flatten(x_tensor):\n",
    "    \"\"\"\n",
    "    Flatten x_tensor to (Batch Size, Flattened Image Size)\n",
    "    : x_tensor: A tensor of size (Batch Size, ...), where ... are the image dimensions.\n",
    "    : return: A tensor of size (Batch Size, Flattened Image Size).\n",
    "    \"\"\"\n",
    "    # TODO: Implement Function\n",
    "    \n",
    "    # print(x_tensor.get_shape().as_list())\n",
    "    \n",
    "    a0, a1, a2, a3 = x_tensor.shape\n",
    "    # tf.reshape(x_tensor, [-1, weights['wd1'].get_shape().as_list()[0]])\n",
    "    return tf.reshape(x_tensor, [-1, int(a1) * int(a2) * int(a3)])\n",
    "\n",
    "\n",
    "\"\"\"\n",
    "DON'T MODIFY ANYTHING IN THIS CELL THAT IS BELOW THIS LINE\n",
    "\"\"\"\n",
    "tests.test_flatten(flatten)"
   ]
  },
  {
   "cell_type": "markdown",
   "metadata": {
    "deletable": true,
    "editable": true
   },
   "source": [
    "### Fully-Connected Layer\n",
    "Implement the `fully_conn` function to apply a fully connected layer to `x_tensor` with the shape (*Batch Size*, *num_outputs*). Shortcut option: you can use classes from the [TensorFlow Layers](https://www.tensorflow.org/api_docs/python/tf/layers) or [TensorFlow Layers (contrib)](https://www.tensorflow.org/api_guides/python/contrib.layers) packages for this layer. For more of a challenge, only use other TensorFlow packages."
   ]
  },
  {
   "cell_type": "code",
   "execution_count": 27,
   "metadata": {
    "collapsed": false,
    "deletable": true,
    "editable": true
   },
   "outputs": [
    {
     "name": "stdout",
     "output_type": "stream",
     "text": [
      "Tests Passed\n"
     ]
    }
   ],
   "source": [
    "def fully_conn(x_tensor, num_outputs):\n",
    "    \"\"\"\n",
    "    Apply a fully connected layer to x_tensor using weight and bias\n",
    "    : x_tensor: A 2-D tensor where the first dimension is batch size.\n",
    "    : num_outputs: The number of output that the new tensor should be.\n",
    "    : return: A 2-D tensor where the second dimension is num_outputs.\n",
    "    \"\"\"\n",
    "    # TODO: Implement Function\n",
    "    \n",
    "    # weight and bias\n",
    "    _, a1 = x_tensor.shape\n",
    "    weight_2 = tf.Variable(tf.truncated_normal([int(a1), num_outputs], stddev=0.1))\n",
    "    bias_2 = tf.Variable(tf.truncated_normal([num_outputs], stddev=0.1))\n",
    "    \n",
    "    output = tf.add(tf.matmul(x_tensor, weight_2), bias_2)\n",
    "    output = tf.nn.relu(output)\n",
    "    \n",
    "    return output\n",
    "\n",
    "\n",
    "\"\"\"\n",
    "DON'T MODIFY ANYTHING IN THIS CELL THAT IS BELOW THIS LINE\n",
    "\"\"\"\n",
    "tests.test_fully_conn(fully_conn)"
   ]
  },
  {
   "cell_type": "markdown",
   "metadata": {
    "deletable": true,
    "editable": true
   },
   "source": [
    "### Output Layer\n",
    "Implement the `output` function to apply a fully connected layer to `x_tensor` with the shape (*Batch Size*, *num_outputs*). Shortcut option: you can use classes from the [TensorFlow Layers](https://www.tensorflow.org/api_docs/python/tf/layers) or [TensorFlow Layers (contrib)](https://www.tensorflow.org/api_guides/python/contrib.layers) packages for this layer. For more of a challenge, only use other TensorFlow packages.\n",
    "\n",
    "**Note:** Activation, softmax, or cross entropy should **not** be applied to this."
   ]
  },
  {
   "cell_type": "code",
   "execution_count": 28,
   "metadata": {
    "collapsed": false,
    "deletable": true,
    "editable": true
   },
   "outputs": [
    {
     "name": "stdout",
     "output_type": "stream",
     "text": [
      "Tests Passed\n"
     ]
    }
   ],
   "source": [
    "def output(x_tensor, num_outputs):\n",
    "    \"\"\"\n",
    "    Apply a output layer to x_tensor using weight and bias\n",
    "    : x_tensor: A 2-D tensor where the first dimension is batch size.\n",
    "    : num_outputs: The number of output that the new tensor should be.\n",
    "    : return: A 2-D tensor where the second dimension is num_outputs.\n",
    "    \"\"\"\n",
    "    # TODO: Implement Function\n",
    "    \n",
    "#     print(x_tensor)\n",
    "#     print(num_outputs)\n",
    "    \n",
    "    # weight and bias\n",
    "    _, a1 = x_tensor.shape\n",
    "    weight_3 = tf.Variable(tf.truncated_normal([int(a1), num_outputs],stddev=0.1))\n",
    "    bias_3 = tf.Variable(tf.truncated_normal([num_outputs], stddev=0.1))\n",
    "    \n",
    "    output = tf.add(tf.matmul(x_tensor, weight_3), bias_3)\n",
    "    return output\n",
    "\n",
    "\n",
    "\"\"\"\n",
    "DON'T MODIFY ANYTHING IN THIS CELL THAT IS BELOW THIS LINE\n",
    "\"\"\"\n",
    "tests.test_output(output)"
   ]
  },
  {
   "cell_type": "markdown",
   "metadata": {
    "deletable": true,
    "editable": true
   },
   "source": [
    "### Create Convolutional Model\n",
    "Implement the function `conv_net` to create a convolutional neural network model. The function takes in a batch of images, `x`, and outputs logits.  Use the layers you created above to create this model:\n",
    "\n",
    "* Apply 1, 2, or 3 Convolution and Max Pool layers\n",
    "* Apply a Flatten Layer\n",
    "* Apply 1, 2, or 3 Fully Connected Layers\n",
    "* Apply an Output Layer\n",
    "* Return the output\n",
    "* Apply [TensorFlow's Dropout](https://www.tensorflow.org/api_docs/python/tf/nn/dropout) to one or more layers in the model using `keep_prob`. "
   ]
  },
  {
   "cell_type": "code",
   "execution_count": 29,
   "metadata": {
    "collapsed": false,
    "deletable": true,
    "editable": true
   },
   "outputs": [
    {
     "name": "stdout",
     "output_type": "stream",
     "text": [
      "Neural Network Built!\n"
     ]
    }
   ],
   "source": [
    "def conv_net(x, keep_prob):\n",
    "    \"\"\"\n",
    "    Create a convolutional neural network model\n",
    "    : x: Placeholder tensor that holds image data.\n",
    "    : keep_prob: Placeholder tensor that hold dropout keep probability.\n",
    "    : return: Tensor that represents logits\n",
    "    \"\"\"\n",
    "    # TODO: Apply 1, 2, or 3 Convolution and Max Pool layers\n",
    "    #    Play around with different number of outputs, kernel size and stride\n",
    "    # Function Definition from Above:\n",
    "    #    conv2d_maxpool(x_tensor, conv_num_outputs, conv_ksize, conv_strides, pool_ksize, pool_strides)\n",
    "    \n",
    "    layer_1 = conv2d_maxpool(x, 18, (4,4), (1,1), (2,2), (1,1))\n",
    "    layer_2 = conv2d_maxpool(layer_1, 32, (4,4), (1,1), (2,2), (1,1))\n",
    "    # layer_2_1 = tf.nn.dropout(layer_2, keep_prob)\n",
    "    # layer_3 = conv2d_maxpool(layer_2, 128, [5,5], [1,1], [2,2], [1,1])\n",
    "\n",
    "    # TODO: Apply a Flatten Layer\n",
    "    # Function Definition from Above:\n",
    "    #   flatten(x_tensor)\n",
    "    # layer_3 = flatten(layer_2)\n",
    "    layer_4 = flatten(layer_2)\n",
    "\n",
    "    # TODO: Apply 1, 2, or 3 Fully Connected Layers\n",
    "    #    Play around with different number of outputs\n",
    "    # Function Definition from Above:\n",
    "    #   fully_conn(x_tensor, num_outputs)\n",
    "    layer_5 = fully_conn(layer_4, 384)\n",
    "    \n",
    "    # try dropout\n",
    "    # layer_5_1 = tf.nn.dropout(layer_5, keep_prob)\n",
    "    \n",
    "    layer_6 = fully_conn(layer_5, 64)\n",
    "    layer_6_1 = tf.nn.dropout(layer_6, keep_prob)\n",
    "    \n",
    "    \n",
    "    # TODO: Apply an Output Layer\n",
    "    #    Set this to the number of classes\n",
    "    # Function Definition from Above:\n",
    "    #   output(x_tensor, num_outputs)\n",
    "    layer_7 = output(layer_6_1, 10)\n",
    "    \n",
    "    # TODO: return output\n",
    "    return layer_7\n",
    "\n",
    "\n",
    "\"\"\"\n",
    "DON'T MODIFY ANYTHING IN THIS CELL THAT IS BELOW THIS LINE\n",
    "\"\"\"\n",
    "\n",
    "##############################\n",
    "## Build the Neural Network ##\n",
    "##############################\n",
    "\n",
    "# Remove previous weights, bias, inputs, etc..\n",
    "tf.reset_default_graph()\n",
    "\n",
    "# Inputs\n",
    "x = neural_net_image_input((32, 32, 3))\n",
    "y = neural_net_label_input(10)\n",
    "keep_prob = neural_net_keep_prob_input()\n",
    "\n",
    "# Model\n",
    "logits = conv_net(x, keep_prob)\n",
    "\n",
    "# Name logits Tensor, so that is can be loaded from disk after training\n",
    "logits = tf.identity(logits, name='logits')\n",
    "\n",
    "# Loss and Optimizer\n",
    "cost = tf.reduce_mean(tf.nn.softmax_cross_entropy_with_logits(logits=logits, labels=y))\n",
    "optimizer = tf.train.AdamOptimizer().minimize(cost)\n",
    "\n",
    "# Accuracy\n",
    "correct_pred = tf.equal(tf.argmax(logits, 1), tf.argmax(y, 1))\n",
    "accuracy = tf.reduce_mean(tf.cast(correct_pred, tf.float32), name='accuracy')\n",
    "\n",
    "tests.test_conv_net(conv_net)"
   ]
  },
  {
   "cell_type": "markdown",
   "metadata": {
    "deletable": true,
    "editable": true
   },
   "source": [
    "## Train the Neural Network\n",
    "### Single Optimization\n",
    "Implement the function `train_neural_network` to do a single optimization.  The optimization should use `optimizer` to optimize in `session` with a `feed_dict` of the following:\n",
    "* `x` for image input\n",
    "* `y` for labels\n",
    "* `keep_prob` for keep probability for dropout\n",
    "\n",
    "This function will be called for each batch, so `tf.global_variables_initializer()` has already been called.\n",
    "\n",
    "Note: Nothing needs to be returned. This function is only optimizing the neural network."
   ]
  },
  {
   "cell_type": "code",
   "execution_count": 30,
   "metadata": {
    "collapsed": false,
    "deletable": true,
    "editable": true
   },
   "outputs": [
    {
     "name": "stdout",
     "output_type": "stream",
     "text": [
      "Tests Passed\n"
     ]
    }
   ],
   "source": [
    "def train_neural_network(session, optimizer, keep_probability, feature_batch, label_batch):\n",
    "    \"\"\"\n",
    "    Optimize the session on a batch of images and labels\n",
    "    : session: Current TensorFlow session\n",
    "    : optimizer: TensorFlow optimizer function\n",
    "    : keep_probability: keep probability\n",
    "    : feature_batch: Batch of Numpy image data\n",
    "    : label_batch: Batch of Numpy label data\n",
    "    \"\"\"\n",
    "    # TODO: Implement Function\n",
    "    session.run(optimizer, feed_dict={x:feature_batch, y:label_batch, keep_prob:keep_probability})\n",
    "    # pass\n",
    "\n",
    "\n",
    "\"\"\"\n",
    "DON'T MODIFY ANYTHING IN THIS CELL THAT IS BELOW THIS LINE\n",
    "\"\"\"\n",
    "tests.test_train_nn(train_neural_network)"
   ]
  },
  {
   "cell_type": "markdown",
   "metadata": {
    "deletable": true,
    "editable": true
   },
   "source": [
    "### Show Stats\n",
    "Implement the function `print_stats` to print loss and validation accuracy.  Use the global variables `valid_features` and `valid_labels` to calculate validation accuracy.  Use a keep probability of `1.0` to calculate the loss and validation accuracy."
   ]
  },
  {
   "cell_type": "code",
   "execution_count": 31,
   "metadata": {
    "collapsed": false,
    "deletable": true,
    "editable": true
   },
   "outputs": [],
   "source": [
    "import math\n",
    "\n",
    "def print_stats(session, feature_batch, label_batch, cost, accuracy):\n",
    "    \"\"\"\n",
    "    Print information about loss and validation accuracy\n",
    "    : session: Current TensorFlow session\n",
    "    : feature_batch: Batch of Numpy image data\n",
    "    : label_batch: Batch of Numpy label data\n",
    "    : cost: TensorFlow cost function\n",
    "    : accuracy: TensorFlow accuracy function\n",
    "    \"\"\"\n",
    "    # TODO: Implement Function\n",
    "    # cost_output = session.run(cost, feed_dict={x:feature_batch, y:label_batch, keep_prob:1.0})\n",
    "    # accuracy_output = session.run(accuracy, feed_dict={x:feature_batch, y:label_batch, keep_prob:1.0})\n",
    "    cost_output = session.run(cost, feed_dict={x:feature_batch, y:label_batch, keep_prob:1.0})\n",
    "    \n",
    "#     print(\"feature_batch.shape:{},label_batch:{}\".format(feature_batch.shape, label_batch.shape) )\n",
    "#     print(\"valid_features.shape:{},valid_labels:{}\".format(valid_features.shape, valid_labels.shape) )\n",
    "    \n",
    "    tmp_count_str, _, _, _ = feature_batch.shape\n",
    "    # WTF? is tmp_count_str int?\n",
    "    # tmp_batch_size = len(tmp_count_str)\n",
    "    tmp_batch_size = tmp_count_str\n",
    "    if isinstance( tmp_count_str, int ):\n",
    "        pass\n",
    "        #tmp_batch_size = tmp_count_str\n",
    "    else:\n",
    "        tmp_batch_size = len(tmp_count_str)\n",
    "    \n",
    "    valid_count_str, _, _, _ = valid_features.shape\n",
    "    valid_count = valid_count_str\n",
    "    if isinstance( tmp_count_str, int ):\n",
    "        pass\n",
    "        # valid_count = valid_count_str\n",
    "    else:\n",
    "        valid_count = len(valid_count_str)\n",
    "        \n",
    "    tmp_batch_count = math.ceil(valid_count / tmp_batch_size)\n",
    "    \n",
    "    valid_accuracy_output_sum = 0;\n",
    "    valid_accuracy_output_count = 0;\n",
    "    for idx in range(tmp_batch_count):\n",
    "        \n",
    "        start_idx = idx*tmp_batch_size\n",
    "        end_idx = (idx+1)*tmp_batch_size\n",
    "        if end_idx > valid_count:\n",
    "            end_idx = valid_count\n",
    "        \n",
    "        valid_features_1 = valid_features[start_idx:end_idx]\n",
    "        valid_labels_1 = valid_labels[start_idx:end_idx]\n",
    "        # print(\"{} to {}\".format(start_idx, end_idx))\n",
    "        valid_accuracy_output_1 = session.run(accuracy, feed_dict={x:valid_features_1, y:valid_labels_1, keep_prob:1.0})\n",
    "        valid_accuracy_output_sum = valid_accuracy_output_sum + valid_accuracy_output_1\n",
    "        valid_accuracy_output_count = valid_accuracy_output_count + 1\n",
    "    \n",
    "    valid_accuracy_output = valid_accuracy_output_sum / valid_accuracy_output_count\n",
    "    print(\"loss:{}, accuracy:{}\".format(cost_output, valid_accuracy_output))\n",
    "    #pass"
   ]
  },
  {
   "cell_type": "markdown",
   "metadata": {
    "deletable": true,
    "editable": true
   },
   "source": [
    "### Hyperparameters\n",
    "Tune the following parameters:\n",
    "* Set `epochs` to the number of iterations until the network stops learning or start overfitting\n",
    "* Set `batch_size` to the highest number that your machine has memory for.  Most people set them to common sizes of memory:\n",
    " * 64\n",
    " * 128\n",
    " * 256\n",
    " * ...\n",
    "* Set `keep_probability` to the probability of keeping a node using dropout"
   ]
  },
  {
   "cell_type": "code",
   "execution_count": 34,
   "metadata": {
    "collapsed": true,
    "deletable": true,
    "editable": true
   },
   "outputs": [],
   "source": [
    "# TODO: Tune Parameters\n",
    "epochs = 50\n",
    "batch_size = 128\n",
    "keep_probability = 0.75"
   ]
  },
  {
   "cell_type": "markdown",
   "metadata": {
    "deletable": true,
    "editable": true
   },
   "source": [
    "### Train on a Single CIFAR-10 Batch\n",
    "Instead of training the neural network on all the CIFAR-10 batches of data, let's use a single batch. This should save time while you iterate on the model to get a better accuracy.  Once the final validation accuracy is 50% or greater, run the model on all the data in the next section."
   ]
  },
  {
   "cell_type": "code",
   "execution_count": 35,
   "metadata": {
    "collapsed": false,
    "deletable": true,
    "editable": true
   },
   "outputs": [
    {
     "name": "stdout",
     "output_type": "stream",
     "text": [
      "Checking the Training on a Single Batch...\n",
      "Epoch  1, CIFAR-10 Batch 1:  loss:1.9427791833877563, accuracy:0.351000009894371\n",
      "Epoch  2, CIFAR-10 Batch 1:  loss:1.6247634887695312, accuracy:0.42120000743865965\n",
      "Epoch  3, CIFAR-10 Batch 1:  loss:1.410160779953003, accuracy:0.4426000099182129\n",
      "Epoch  4, CIFAR-10 Batch 1:  loss:1.1503978967666626, accuracy:0.4702000069618225\n",
      "Epoch  5, CIFAR-10 Batch 1:  loss:0.9464906454086304, accuracy:0.4990000066757202\n",
      "Epoch  6, CIFAR-10 Batch 1:  loss:0.840896725654602, accuracy:0.49720000648498536\n",
      "Epoch  7, CIFAR-10 Batch 1:  loss:0.6086621284484863, accuracy:0.4986000084877014\n",
      "Epoch  8, CIFAR-10 Batch 1:  loss:0.5146560072898865, accuracy:0.5126000072956085\n",
      "Epoch  9, CIFAR-10 Batch 1:  loss:0.4125410318374634, accuracy:0.5188000102043152\n",
      "Epoch 10, CIFAR-10 Batch 1:  loss:0.2887333631515503, accuracy:0.5280000064373016\n",
      "Epoch 11, CIFAR-10 Batch 1:  loss:0.22682633996009827, accuracy:0.5250000076293946\n",
      "Epoch 12, CIFAR-10 Batch 1:  loss:0.19061143696308136, accuracy:0.5184000046253204\n",
      "Epoch 13, CIFAR-10 Batch 1:  loss:0.18570595979690552, accuracy:0.5000000069141388\n",
      "Epoch 14, CIFAR-10 Batch 1:  loss:0.12079949676990509, accuracy:0.522400006532669\n",
      "Epoch 15, CIFAR-10 Batch 1:  loss:0.06677238643169403, accuracy:0.5240000088214875\n",
      "Epoch 16, CIFAR-10 Batch 1:  loss:0.05158328264951706, accuracy:0.5254000024795532\n",
      "Epoch 17, CIFAR-10 Batch 1:  loss:0.04958905652165413, accuracy:0.533200006723404\n",
      "Epoch 18, CIFAR-10 Batch 1:  loss:0.02714504301548004, accuracy:0.5244000067710877\n",
      "Epoch 19, CIFAR-10 Batch 1:  loss:0.014644280076026917, accuracy:0.5232000076770782\n",
      "Epoch 20, CIFAR-10 Batch 1:  loss:0.009717497043311596, accuracy:0.5076000061035156\n",
      "Epoch 21, CIFAR-10 Batch 1:  loss:0.02174239605665207, accuracy:0.5186000075340271\n",
      "Epoch 22, CIFAR-10 Batch 1:  loss:0.007818911224603653, accuracy:0.5324000058174133\n",
      "Epoch 23, CIFAR-10 Batch 1:  loss:0.017496146261692047, accuracy:0.5216000080108643\n",
      "Epoch 24, CIFAR-10 Batch 1:  loss:0.005584417842328548, accuracy:0.5212000098228454\n",
      "Epoch 25, CIFAR-10 Batch 1:  loss:0.004617056809365749, accuracy:0.5298000094890595\n",
      "Epoch 26, CIFAR-10 Batch 1:  loss:0.009792385622859001, accuracy:0.5094000074863434\n",
      "Epoch 27, CIFAR-10 Batch 1:  loss:0.0038611581549048424, accuracy:0.5252000062465668\n",
      "Epoch 28, CIFAR-10 Batch 1:  loss:0.006076479330658913, accuracy:0.5064000046253204\n",
      "Epoch 29, CIFAR-10 Batch 1:  loss:0.003376060165464878, accuracy:0.5252000079154968\n",
      "Epoch 30, CIFAR-10 Batch 1:  loss:0.003570869565010071, accuracy:0.5214000072479248\n",
      "Epoch 31, CIFAR-10 Batch 1:  loss:0.0012166975066065788, accuracy:0.5276000075340271\n",
      "Epoch 32, CIFAR-10 Batch 1:  loss:0.0016094406601041555, accuracy:0.532000010251999\n",
      "Epoch 33, CIFAR-10 Batch 1:  loss:0.0013302626321092248, accuracy:0.5388000063896179\n",
      "Epoch 34, CIFAR-10 Batch 1:  loss:0.0005122818402014673, accuracy:0.5316000065803528\n",
      "Epoch 35, CIFAR-10 Batch 1:  loss:0.0002238302113255486, accuracy:0.5408000111579895\n",
      "Epoch 36, CIFAR-10 Batch 1:  loss:0.00038234092062339187, accuracy:0.5376000089645385\n",
      "Epoch 37, CIFAR-10 Batch 1:  loss:0.0003378118562977761, accuracy:0.5276000082492829\n",
      "Epoch 38, CIFAR-10 Batch 1:  loss:0.0004795023414772004, accuracy:0.5370000076293945\n",
      "Epoch 39, CIFAR-10 Batch 1:  loss:0.00014002848183736205, accuracy:0.5372000114917755\n",
      "Epoch 40, CIFAR-10 Batch 1:  loss:0.000261605775449425, accuracy:0.5402000107765198\n",
      "Epoch 41, CIFAR-10 Batch 1:  loss:0.0008880081004463136, accuracy:0.5136000049114228\n",
      "Epoch 42, CIFAR-10 Batch 1:  loss:0.0008421828388236463, accuracy:0.5270000069141388\n",
      "Epoch 43, CIFAR-10 Batch 1:  loss:0.00091243238421157, accuracy:0.5350000078678131\n",
      "Epoch 44, CIFAR-10 Batch 1:  loss:0.00017611507792025805, accuracy:0.5290000071525573\n",
      "Epoch 45, CIFAR-10 Batch 1:  loss:0.00038996251532807946, accuracy:0.524400006532669\n",
      "Epoch 46, CIFAR-10 Batch 1:  loss:0.004163119941949844, accuracy:0.5218000099658966\n",
      "Epoch 47, CIFAR-10 Batch 1:  loss:0.0001717315026326105, accuracy:0.5162000074386597\n",
      "Epoch 48, CIFAR-10 Batch 1:  loss:0.00012704971595667303, accuracy:0.5076000051498413\n",
      "Epoch 49, CIFAR-10 Batch 1:  loss:6.99355878168717e-05, accuracy:0.5254000067710877\n",
      "Epoch 50, CIFAR-10 Batch 1:  loss:0.00021566472423728555, accuracy:0.5242000091075897\n"
     ]
    }
   ],
   "source": [
    "\"\"\"\n",
    "DON'T MODIFY ANYTHING IN THIS CELL\n",
    "\"\"\"\n",
    "print('Checking the Training on a Single Batch...')\n",
    "with tf.Session() as sess:\n",
    "    # Initializing the variables\n",
    "    sess.run(tf.global_variables_initializer())\n",
    "    \n",
    "    # Training cycle\n",
    "    for epoch in range(epochs):\n",
    "        batch_i = 1\n",
    "        for batch_features, batch_labels in helper.load_preprocess_training_batch(batch_i, batch_size):\n",
    "            train_neural_network(sess, optimizer, keep_probability, batch_features, batch_labels)\n",
    "        print('Epoch {:>2}, CIFAR-10 Batch {}:  '.format(epoch + 1, batch_i), end='')\n",
    "        print_stats(sess, batch_features, batch_labels, cost, accuracy)"
   ]
  },
  {
   "cell_type": "markdown",
   "metadata": {
    "deletable": true,
    "editable": true
   },
   "source": [
    "### Fully Train the Model\n",
    "Now that you got a good accuracy with a single CIFAR-10 batch, try it with all five batches."
   ]
  },
  {
   "cell_type": "code",
   "execution_count": 36,
   "metadata": {
    "collapsed": false,
    "deletable": true,
    "editable": true,
    "scrolled": false
   },
   "outputs": [
    {
     "name": "stdout",
     "output_type": "stream",
     "text": [
      "Training...\n",
      "Epoch  1, CIFAR-10 Batch 1:  loss:1.9638340473175049, accuracy:0.32920000684261325\n",
      "Epoch  1, CIFAR-10 Batch 2:  loss:1.7087877988815308, accuracy:0.41860000681877135\n",
      "Epoch  1, CIFAR-10 Batch 3:  loss:1.302844762802124, accuracy:0.43480000615119935\n",
      "Epoch  1, CIFAR-10 Batch 4:  loss:1.3823580741882324, accuracy:0.47160001015663144\n",
      "Epoch  1, CIFAR-10 Batch 5:  loss:1.383838176727295, accuracy:0.5032000095844269\n",
      "Epoch  2, CIFAR-10 Batch 1:  loss:1.4927713871002197, accuracy:0.502200008392334\n",
      "Epoch  2, CIFAR-10 Batch 2:  loss:1.1509448289871216, accuracy:0.519200010061264\n",
      "Epoch  2, CIFAR-10 Batch 3:  loss:0.8575554490089417, accuracy:0.5438000092506409\n",
      "Epoch  2, CIFAR-10 Batch 4:  loss:1.0602593421936035, accuracy:0.5454000091552734\n",
      "Epoch  2, CIFAR-10 Batch 5:  loss:1.061461329460144, accuracy:0.5532000076770782\n",
      "Epoch  3, CIFAR-10 Batch 1:  loss:1.1600557565689087, accuracy:0.5692000086307526\n",
      "Epoch  3, CIFAR-10 Batch 2:  loss:0.9659098982810974, accuracy:0.5832000102996826\n",
      "Epoch  3, CIFAR-10 Batch 3:  loss:0.7834934592247009, accuracy:0.5766000084877014\n",
      "Epoch  3, CIFAR-10 Batch 4:  loss:0.792483389377594, accuracy:0.5774000129699707\n",
      "Epoch  3, CIFAR-10 Batch 5:  loss:0.7082552313804626, accuracy:0.593800009727478\n",
      "Epoch  4, CIFAR-10 Batch 1:  loss:0.7939813733100891, accuracy:0.6030000100135803\n",
      "Epoch  4, CIFAR-10 Batch 2:  loss:0.7074894905090332, accuracy:0.6024000127315521\n",
      "Epoch  4, CIFAR-10 Batch 3:  loss:0.5064167976379395, accuracy:0.6014000144004822\n",
      "Epoch  4, CIFAR-10 Batch 4:  loss:0.556086540222168, accuracy:0.6044000108242035\n",
      "Epoch  4, CIFAR-10 Batch 5:  loss:0.4221768081188202, accuracy:0.6184000041484833\n",
      "Epoch  5, CIFAR-10 Batch 1:  loss:0.6141704320907593, accuracy:0.6158000097274781\n",
      "Epoch  5, CIFAR-10 Batch 2:  loss:0.5815277099609375, accuracy:0.6070000100135803\n",
      "Epoch  5, CIFAR-10 Batch 3:  loss:0.28273600339889526, accuracy:0.6232000112533569\n",
      "Epoch  5, CIFAR-10 Batch 4:  loss:0.3632340729236603, accuracy:0.6228000104427338\n",
      "Epoch  5, CIFAR-10 Batch 5:  loss:0.44309383630752563, accuracy:0.6026000063419342\n",
      "Epoch  6, CIFAR-10 Batch 1:  loss:0.5489246845245361, accuracy:0.5984000086784362\n",
      "Epoch  6, CIFAR-10 Batch 2:  loss:0.41071218252182007, accuracy:0.6010000116825104\n",
      "Epoch  6, CIFAR-10 Batch 3:  loss:0.2285873144865036, accuracy:0.6188000130653382\n",
      "Epoch  6, CIFAR-10 Batch 4:  loss:0.3233913779258728, accuracy:0.6078000092506408\n",
      "Epoch  6, CIFAR-10 Batch 5:  loss:0.2503865361213684, accuracy:0.6190000145435334\n",
      "Epoch  7, CIFAR-10 Batch 1:  loss:0.33561229705810547, accuracy:0.6254000141620636\n",
      "Epoch  7, CIFAR-10 Batch 2:  loss:0.29249951243400574, accuracy:0.6074000053405761\n",
      "Epoch  7, CIFAR-10 Batch 3:  loss:0.174921452999115, accuracy:0.6260000128746033\n",
      "Epoch  7, CIFAR-10 Batch 4:  loss:0.23369526863098145, accuracy:0.6336000094413757\n",
      "Epoch  7, CIFAR-10 Batch 5:  loss:0.18277113139629364, accuracy:0.61160000872612\n",
      "Epoch  8, CIFAR-10 Batch 1:  loss:0.22688478231430054, accuracy:0.6366000092029571\n",
      "Epoch  8, CIFAR-10 Batch 2:  loss:0.18689841032028198, accuracy:0.6206000137329102\n",
      "Epoch  8, CIFAR-10 Batch 3:  loss:0.14894376695156097, accuracy:0.6236000082492829\n",
      "Epoch  8, CIFAR-10 Batch 4:  loss:0.1690884828567505, accuracy:0.624000013589859\n",
      "Epoch  8, CIFAR-10 Batch 5:  loss:0.11327578127384186, accuracy:0.6336000125408172\n",
      "Epoch  9, CIFAR-10 Batch 1:  loss:0.1564788520336151, accuracy:0.6232000102996826\n",
      "Epoch  9, CIFAR-10 Batch 2:  loss:0.10915802419185638, accuracy:0.6010000100135803\n",
      "Epoch  9, CIFAR-10 Batch 3:  loss:0.05655164644122124, accuracy:0.6232000086307525\n",
      "Epoch  9, CIFAR-10 Batch 4:  loss:0.12143290042877197, accuracy:0.6312000112533569\n",
      "Epoch  9, CIFAR-10 Batch 5:  loss:0.09057904034852982, accuracy:0.6354000127315521\n",
      "Epoch 10, CIFAR-10 Batch 1:  loss:0.14145998656749725, accuracy:0.6120000076293945\n",
      "Epoch 10, CIFAR-10 Batch 2:  loss:0.06637249886989594, accuracy:0.6032000091075898\n",
      "Epoch 10, CIFAR-10 Batch 3:  loss:0.04510189965367317, accuracy:0.6280000095367432\n",
      "Epoch 10, CIFAR-10 Batch 4:  loss:0.04564117267727852, accuracy:0.632600011587143\n",
      "Epoch 10, CIFAR-10 Batch 5:  loss:0.06904422491788864, accuracy:0.6276000096797943\n",
      "Epoch 11, CIFAR-10 Batch 1:  loss:0.12155406922101974, accuracy:0.5784000124931336\n",
      "Epoch 11, CIFAR-10 Batch 2:  loss:0.05711480975151062, accuracy:0.590200008392334\n",
      "Epoch 11, CIFAR-10 Batch 3:  loss:0.027073007076978683, accuracy:0.6322000133991241\n",
      "Epoch 11, CIFAR-10 Batch 4:  loss:0.060048189014196396, accuracy:0.617600014925003\n",
      "Epoch 11, CIFAR-10 Batch 5:  loss:0.04480231925845146, accuracy:0.6318000109195709\n",
      "Epoch 12, CIFAR-10 Batch 1:  loss:0.08333791047334671, accuracy:0.603000009059906\n",
      "Epoch 12, CIFAR-10 Batch 2:  loss:0.045768555253744125, accuracy:0.5882000117301941\n",
      "Epoch 12, CIFAR-10 Batch 3:  loss:0.019330816343426704, accuracy:0.6242000138759614\n",
      "Epoch 12, CIFAR-10 Batch 4:  loss:0.04249602556228638, accuracy:0.618000009059906\n",
      "Epoch 12, CIFAR-10 Batch 5:  loss:0.04221348091959953, accuracy:0.6180000104904175\n",
      "Epoch 13, CIFAR-10 Batch 1:  loss:0.04095922037959099, accuracy:0.6254000132083892\n",
      "Epoch 13, CIFAR-10 Batch 2:  loss:0.01444132812321186, accuracy:0.5912000095844269\n",
      "Epoch 13, CIFAR-10 Batch 3:  loss:0.014377065002918243, accuracy:0.6258000118732452\n",
      "Epoch 13, CIFAR-10 Batch 4:  loss:0.01591404341161251, accuracy:0.6174000105857849\n",
      "Epoch 13, CIFAR-10 Batch 5:  loss:0.007400429807603359, accuracy:0.6328000195026398\n",
      "Epoch 14, CIFAR-10 Batch 1:  loss:0.03449053317308426, accuracy:0.6310000123977662\n",
      "Epoch 14, CIFAR-10 Batch 2:  loss:0.007959271781146526, accuracy:0.6212000095844269\n",
      "Epoch 14, CIFAR-10 Batch 3:  loss:0.0075929975137114525, accuracy:0.6248000123500824\n",
      "Epoch 14, CIFAR-10 Batch 4:  loss:0.012219198048114777, accuracy:0.62720001578331\n",
      "Epoch 14, CIFAR-10 Batch 5:  loss:0.01720476523041725, accuracy:0.6268000168800354\n",
      "Epoch 15, CIFAR-10 Batch 1:  loss:0.009119067341089249, accuracy:0.6386000099182129\n",
      "Epoch 15, CIFAR-10 Batch 2:  loss:0.00425352156162262, accuracy:0.6012000086307525\n",
      "Epoch 15, CIFAR-10 Batch 3:  loss:0.013737770728766918, accuracy:0.6300000133514404\n",
      "Epoch 15, CIFAR-10 Batch 4:  loss:0.007971235550940037, accuracy:0.6222000124454499\n",
      "Epoch 15, CIFAR-10 Batch 5:  loss:0.009328702464699745, accuracy:0.6362000136375427\n",
      "Epoch 16, CIFAR-10 Batch 1:  loss:0.02384021505713463, accuracy:0.6198000116348267\n",
      "Epoch 16, CIFAR-10 Batch 2:  loss:0.003926245961338282, accuracy:0.6128000106811523\n",
      "Epoch 16, CIFAR-10 Batch 3:  loss:0.03412644565105438, accuracy:0.6342000112533569\n",
      "Epoch 16, CIFAR-10 Batch 4:  loss:0.007213855627924204, accuracy:0.6114000108242035\n",
      "Epoch 16, CIFAR-10 Batch 5:  loss:0.004033068660646677, accuracy:0.6256000113487243\n",
      "Epoch 17, CIFAR-10 Batch 1:  loss:0.01432569045573473, accuracy:0.5962000126838685\n",
      "Epoch 17, CIFAR-10 Batch 2:  loss:0.0018697511404752731, accuracy:0.6200000116825104\n",
      "Epoch 17, CIFAR-10 Batch 3:  loss:0.004339851438999176, accuracy:0.6288000099658966\n",
      "Epoch 17, CIFAR-10 Batch 4:  loss:0.0031540736090391874, accuracy:0.6048000102043152\n",
      "Epoch 17, CIFAR-10 Batch 5:  loss:0.00189533072989434, accuracy:0.629400012254715\n",
      "Epoch 18, CIFAR-10 Batch 1:  loss:0.008993991650640965, accuracy:0.6170000133514404\n",
      "Epoch 18, CIFAR-10 Batch 2:  loss:0.0008636873099021614, accuracy:0.6248000121116638\n",
      "Epoch 18, CIFAR-10 Batch 3:  loss:0.0017781121423467994, accuracy:0.6370000102519989\n",
      "Epoch 18, CIFAR-10 Batch 4:  loss:0.004001080058515072, accuracy:0.6246000125408172\n",
      "Epoch 18, CIFAR-10 Batch 5:  loss:0.0024283158127218485, accuracy:0.6414000177383423\n",
      "Epoch 19, CIFAR-10 Batch 1:  loss:0.0050302473828196526, accuracy:0.6086000080108642\n",
      "Epoch 19, CIFAR-10 Batch 2:  loss:0.002423002850264311, accuracy:0.609200011253357\n",
      "Epoch 19, CIFAR-10 Batch 3:  loss:0.0010619420791044831, accuracy:0.6182000124454499\n",
      "Epoch 19, CIFAR-10 Batch 4:  loss:0.007193625904619694, accuracy:0.6034000098705292\n",
      "Epoch 19, CIFAR-10 Batch 5:  loss:0.0007696715765632689, accuracy:0.635000015258789\n",
      "Epoch 20, CIFAR-10 Batch 1:  loss:0.0013195881620049477, accuracy:0.6250000116825104\n",
      "Epoch 20, CIFAR-10 Batch 2:  loss:0.0012107822112739086, accuracy:0.6194000141620636\n",
      "Epoch 20, CIFAR-10 Batch 3:  loss:0.00557693000882864, accuracy:0.6236000099182128\n",
      "Epoch 20, CIFAR-10 Batch 4:  loss:0.0007811742252670228, accuracy:0.6168000125885009\n",
      "Epoch 20, CIFAR-10 Batch 5:  loss:0.001117413048632443, accuracy:0.6282000141143799\n",
      "Epoch 21, CIFAR-10 Batch 1:  loss:0.0007026233361102641, accuracy:0.6022000114917755\n",
      "Epoch 21, CIFAR-10 Batch 2:  loss:0.0005489577888511121, accuracy:0.6134000129699707\n",
      "Epoch 21, CIFAR-10 Batch 3:  loss:0.0014965026639401913, accuracy:0.6192000091075898\n",
      "Epoch 21, CIFAR-10 Batch 4:  loss:0.0015823182184249163, accuracy:0.6118000104427338\n",
      "Epoch 21, CIFAR-10 Batch 5:  loss:0.00432595144957304, accuracy:0.6356000144481659\n",
      "Epoch 22, CIFAR-10 Batch 1:  loss:0.006476070266216993, accuracy:0.6358000130653382\n",
      "Epoch 22, CIFAR-10 Batch 2:  loss:0.0012204938102513552, accuracy:0.6242000114917755\n",
      "Epoch 22, CIFAR-10 Batch 3:  loss:1.1770893252105452e-05, accuracy:0.6292000150680542\n",
      "Epoch 22, CIFAR-10 Batch 4:  loss:0.000734752684365958, accuracy:0.6152000143527985\n",
      "Epoch 22, CIFAR-10 Batch 5:  loss:0.0008801354561001062, accuracy:0.6328000133037567\n",
      "Epoch 23, CIFAR-10 Batch 1:  loss:0.0004364907799754292, accuracy:0.6352000126838684\n",
      "Epoch 23, CIFAR-10 Batch 2:  loss:0.0030734229367226362, accuracy:0.6080000104904175\n",
      "Epoch 23, CIFAR-10 Batch 3:  loss:8.086247544270009e-05, accuracy:0.6322000160217285\n",
      "Epoch 23, CIFAR-10 Batch 4:  loss:0.00023952285118866712, accuracy:0.6072000126838684\n",
      "Epoch 23, CIFAR-10 Batch 5:  loss:0.0011399280047044158, accuracy:0.6268000102043152\n",
      "Epoch 24, CIFAR-10 Batch 1:  loss:0.00012932633399032056, accuracy:0.6286000123023987\n",
      "Epoch 24, CIFAR-10 Batch 2:  loss:0.001410190248861909, accuracy:0.6202000153064727\n",
      "Epoch 24, CIFAR-10 Batch 3:  loss:1.1203758731426205e-05, accuracy:0.6308000144958497\n",
      "Epoch 24, CIFAR-10 Batch 4:  loss:0.00022195142810232937, accuracy:0.6070000114440918\n",
      "Epoch 24, CIFAR-10 Batch 5:  loss:0.00029428713605739176, accuracy:0.6370000140666962\n",
      "Epoch 25, CIFAR-10 Batch 1:  loss:5.461594992084429e-05, accuracy:0.6302000119686126\n",
      "Epoch 25, CIFAR-10 Batch 2:  loss:0.00027355196652933955, accuracy:0.6342000107765198\n",
      "Epoch 25, CIFAR-10 Batch 3:  loss:0.00014429603470489383, accuracy:0.6198000118732453\n",
      "Epoch 25, CIFAR-10 Batch 4:  loss:3.7752419302705675e-05, accuracy:0.6102000114917755\n",
      "Epoch 25, CIFAR-10 Batch 5:  loss:0.0003806391032412648, accuracy:0.6330000131130219\n",
      "Epoch 26, CIFAR-10 Batch 1:  loss:0.00012392182543408126, accuracy:0.6244000153541565\n",
      "Epoch 26, CIFAR-10 Batch 2:  loss:0.004103242885321379, accuracy:0.6250000131130219\n",
      "Epoch 26, CIFAR-10 Batch 3:  loss:0.0027590354438871145, accuracy:0.6228000090122223\n",
      "Epoch 26, CIFAR-10 Batch 4:  loss:9.016610420076177e-05, accuracy:0.615400009393692\n",
      "Epoch 26, CIFAR-10 Batch 5:  loss:0.0005863168044015765, accuracy:0.6298000121116638\n",
      "Epoch 27, CIFAR-10 Batch 1:  loss:0.0006630612770095468, accuracy:0.6302000131607056\n",
      "Epoch 27, CIFAR-10 Batch 2:  loss:0.0006631658179685473, accuracy:0.6412000107765198\n",
      "Epoch 27, CIFAR-10 Batch 3:  loss:3.943553747376427e-05, accuracy:0.6308000121116638\n",
      "Epoch 27, CIFAR-10 Batch 4:  loss:5.437097934191115e-05, accuracy:0.6192000105381011\n",
      "Epoch 27, CIFAR-10 Batch 5:  loss:0.00033152595278806984, accuracy:0.6380000114440918\n",
      "Epoch 28, CIFAR-10 Batch 1:  loss:0.004723270423710346, accuracy:0.6284000146389007\n",
      "Epoch 28, CIFAR-10 Batch 2:  loss:0.0012024453608319163, accuracy:0.6344000127315521\n",
      "Epoch 28, CIFAR-10 Batch 3:  loss:0.00011681131582008675, accuracy:0.6220000109672547\n",
      "Epoch 28, CIFAR-10 Batch 4:  loss:0.00014905695570632815, accuracy:0.6016000158786774\n",
      "Epoch 28, CIFAR-10 Batch 5:  loss:0.000919477897696197, accuracy:0.6312000107765198\n",
      "Epoch 29, CIFAR-10 Batch 1:  loss:0.0009526906069368124, accuracy:0.6382000155448914\n",
      "Epoch 29, CIFAR-10 Batch 2:  loss:0.002331353258341551, accuracy:0.6306000144481659\n",
      "Epoch 29, CIFAR-10 Batch 3:  loss:1.7320006008958444e-05, accuracy:0.6334000132083892\n",
      "Epoch 29, CIFAR-10 Batch 4:  loss:0.00010653739445842803, accuracy:0.6226000094413757\n",
      "Epoch 29, CIFAR-10 Batch 5:  loss:5.122094080434181e-05, accuracy:0.6330000102519989\n",
      "Epoch 30, CIFAR-10 Batch 1:  loss:0.004785334691405296, accuracy:0.6266000113487243\n",
      "Epoch 30, CIFAR-10 Batch 2:  loss:0.00025841579190455377, accuracy:0.6382000119686126\n",
      "Epoch 30, CIFAR-10 Batch 3:  loss:9.232007141690701e-05, accuracy:0.6312000114917755\n",
      "Epoch 30, CIFAR-10 Batch 4:  loss:7.794822886353359e-05, accuracy:0.6272000117301941\n",
      "Epoch 30, CIFAR-10 Batch 5:  loss:0.00011877121141878888, accuracy:0.6336000156402588\n",
      "Epoch 31, CIFAR-10 Batch 1:  loss:7.151797763071954e-05, accuracy:0.6338000121116638\n",
      "Epoch 31, CIFAR-10 Batch 2:  loss:0.00032416736939921975, accuracy:0.6316000151634217\n",
      "Epoch 31, CIFAR-10 Batch 3:  loss:0.00034893304109573364, accuracy:0.625400012254715\n",
      "Epoch 31, CIFAR-10 Batch 4:  loss:5.338696064427495e-05, accuracy:0.6208000118732453\n",
      "Epoch 31, CIFAR-10 Batch 5:  loss:0.00013214958016760647, accuracy:0.637000010728836\n",
      "Epoch 32, CIFAR-10 Batch 1:  loss:0.0027662026695907116, accuracy:0.6268000144958497\n",
      "Epoch 32, CIFAR-10 Batch 2:  loss:0.00027540535666048527, accuracy:0.6282000172138215\n",
      "Epoch 32, CIFAR-10 Batch 3:  loss:1.4827871382294688e-05, accuracy:0.6308000130653382\n",
      "Epoch 32, CIFAR-10 Batch 4:  loss:0.0004687658802140504, accuracy:0.6212000112533569\n",
      "Epoch 32, CIFAR-10 Batch 5:  loss:0.0007912649307399988, accuracy:0.6328000152111053\n",
      "Epoch 33, CIFAR-10 Batch 1:  loss:0.00040456760325469077, accuracy:0.6264000124931336\n",
      "Epoch 33, CIFAR-10 Batch 2:  loss:0.001049616257660091, accuracy:0.6350000138282776\n",
      "Epoch 33, CIFAR-10 Batch 3:  loss:0.00047789947711862624, accuracy:0.6288000156879425\n",
      "Epoch 33, CIFAR-10 Batch 4:  loss:0.0003255209303461015, accuracy:0.6222000088691712\n",
      "Epoch 33, CIFAR-10 Batch 5:  loss:4.571642421069555e-05, accuracy:0.6318000128269196\n",
      "Epoch 34, CIFAR-10 Batch 1:  loss:0.0012612646678462625, accuracy:0.6300000109672547\n",
      "Epoch 34, CIFAR-10 Batch 2:  loss:0.00023827039694879204, accuracy:0.6320000147819519\n",
      "Epoch 34, CIFAR-10 Batch 3:  loss:0.0002873260818887502, accuracy:0.629400012254715\n",
      "Epoch 34, CIFAR-10 Batch 4:  loss:0.0012020011199638247, accuracy:0.6042000105381012\n",
      "Epoch 34, CIFAR-10 Batch 5:  loss:0.0001635453663766384, accuracy:0.6290000112056732\n",
      "Epoch 35, CIFAR-10 Batch 1:  loss:0.0007629549945704639, accuracy:0.6336000168323517\n",
      "Epoch 35, CIFAR-10 Batch 2:  loss:0.0003690880839712918, accuracy:0.633600017786026\n",
      "Epoch 35, CIFAR-10 Batch 3:  loss:6.7619689616549294e-06, accuracy:0.6288000152111054\n",
      "Epoch 35, CIFAR-10 Batch 4:  loss:0.00013142760144546628, accuracy:0.6226000146865844\n",
      "Epoch 35, CIFAR-10 Batch 5:  loss:0.006288330536335707, accuracy:0.6290000100135803\n",
      "Epoch 36, CIFAR-10 Batch 1:  loss:0.00018836080562323332, accuracy:0.6332000105381012\n",
      "Epoch 36, CIFAR-10 Batch 2:  loss:0.0004833146231248975, accuracy:0.6342000122070313\n",
      "Epoch 36, CIFAR-10 Batch 3:  loss:5.554803919949336e-06, accuracy:0.6264000074863434\n",
      "Epoch 36, CIFAR-10 Batch 4:  loss:0.00031587836565449834, accuracy:0.618400013923645\n",
      "Epoch 36, CIFAR-10 Batch 5:  loss:0.0011851557064801455, accuracy:0.6318000087738037\n",
      "Epoch 37, CIFAR-10 Batch 1:  loss:1.9251645426265895e-05, accuracy:0.6430000157356263\n",
      "Epoch 37, CIFAR-10 Batch 2:  loss:0.00018218035984318703, accuracy:0.6206000165939332\n",
      "Epoch 37, CIFAR-10 Batch 3:  loss:2.5860857931547798e-05, accuracy:0.626400012254715\n",
      "Epoch 37, CIFAR-10 Batch 4:  loss:0.00014630515943281353, accuracy:0.6290000119209289\n",
      "Epoch 37, CIFAR-10 Batch 5:  loss:0.0001672365324338898, accuracy:0.6400000150203705\n",
      "Epoch 38, CIFAR-10 Batch 1:  loss:5.18234446644783e-05, accuracy:0.6340000133514404\n",
      "Epoch 38, CIFAR-10 Batch 2:  loss:4.5162269088905305e-05, accuracy:0.6230000147819519\n",
      "Epoch 38, CIFAR-10 Batch 3:  loss:0.00011360499047441408, accuracy:0.6372000138759613\n",
      "Epoch 38, CIFAR-10 Batch 4:  loss:5.303399302647449e-05, accuracy:0.6188000137805939\n",
      "Epoch 38, CIFAR-10 Batch 5:  loss:0.00035455680335871875, accuracy:0.6188000113964081\n",
      "Epoch 39, CIFAR-10 Batch 1:  loss:0.003954523708671331, accuracy:0.6198000106811523\n",
      "Epoch 39, CIFAR-10 Batch 2:  loss:0.00032821352942846715, accuracy:0.6272000131607056\n",
      "Epoch 39, CIFAR-10 Batch 3:  loss:0.00012592111306730658, accuracy:0.6306000142097473\n",
      "Epoch 39, CIFAR-10 Batch 4:  loss:0.001614999957382679, accuracy:0.6234000120162964\n",
      "Epoch 39, CIFAR-10 Batch 5:  loss:0.0015438043046742678, accuracy:0.6324000172615051\n",
      "Epoch 40, CIFAR-10 Batch 1:  loss:0.00016821754979901016, accuracy:0.6328000082969666\n",
      "Epoch 40, CIFAR-10 Batch 2:  loss:5.100370617583394e-05, accuracy:0.6324000103473664\n",
      "Epoch 40, CIFAR-10 Batch 3:  loss:4.813290433958173e-05, accuracy:0.6388000135421753\n",
      "Epoch 40, CIFAR-10 Batch 4:  loss:5.314084410201758e-05, accuracy:0.6246000099182129\n",
      "Epoch 40, CIFAR-10 Batch 5:  loss:0.00217583985067904, accuracy:0.6234000174999237\n",
      "Epoch 41, CIFAR-10 Batch 1:  loss:9.939811570802703e-05, accuracy:0.6266000106334686\n",
      "Epoch 41, CIFAR-10 Batch 2:  loss:6.362108251778409e-06, accuracy:0.6350000128746033\n",
      "Epoch 41, CIFAR-10 Batch 3:  loss:0.00027631616103462875, accuracy:0.6314000086784363\n",
      "Epoch 41, CIFAR-10 Batch 4:  loss:0.0005087800673209131, accuracy:0.6278000104427338\n",
      "Epoch 41, CIFAR-10 Batch 5:  loss:0.0010586987482383847, accuracy:0.6378000156879425\n",
      "Epoch 42, CIFAR-10 Batch 1:  loss:0.0009269186411984265, accuracy:0.6410000154972076\n",
      "Epoch 42, CIFAR-10 Batch 2:  loss:1.928352503455244e-05, accuracy:0.6220000131130219\n",
      "Epoch 42, CIFAR-10 Batch 3:  loss:6.91350142005831e-05, accuracy:0.6350000121593475\n",
      "Epoch 42, CIFAR-10 Batch 4:  loss:0.0031637074425816536, accuracy:0.61760000872612\n",
      "Epoch 42, CIFAR-10 Batch 5:  loss:2.6284867999493144e-05, accuracy:0.6348000144958497\n",
      "Epoch 43, CIFAR-10 Batch 1:  loss:0.0008189131040126085, accuracy:0.6394000163078308\n",
      "Epoch 43, CIFAR-10 Batch 2:  loss:6.305083661573008e-05, accuracy:0.6332000112533569\n",
      "Epoch 43, CIFAR-10 Batch 3:  loss:0.0001643993891775608, accuracy:0.6356000151634217\n",
      "Epoch 43, CIFAR-10 Batch 4:  loss:2.519317604310345e-05, accuracy:0.6318000116348267\n",
      "Epoch 43, CIFAR-10 Batch 5:  loss:6.935158307896927e-05, accuracy:0.630000013589859\n",
      "Epoch 44, CIFAR-10 Batch 1:  loss:0.0010489276610314846, accuracy:0.6262000143527985\n",
      "Epoch 44, CIFAR-10 Batch 2:  loss:0.0003249238361604512, accuracy:0.6242000148296356\n",
      "Epoch 44, CIFAR-10 Batch 3:  loss:0.0018007345497608185, accuracy:0.6312000136375427\n",
      "Epoch 44, CIFAR-10 Batch 4:  loss:0.0012031302321702242, accuracy:0.6198000140190124\n",
      "Epoch 44, CIFAR-10 Batch 5:  loss:0.0003141603374388069, accuracy:0.6342000119686126\n",
      "Epoch 45, CIFAR-10 Batch 1:  loss:0.0008370991563424468, accuracy:0.6300000143051148\n",
      "Epoch 45, CIFAR-10 Batch 2:  loss:0.002238251967355609, accuracy:0.623400015115738\n",
      "Epoch 45, CIFAR-10 Batch 3:  loss:1.374295970890671e-05, accuracy:0.6250000126361847\n",
      "Epoch 45, CIFAR-10 Batch 4:  loss:0.0006382299470715225, accuracy:0.5910000071525574\n",
      "Epoch 45, CIFAR-10 Batch 5:  loss:3.21847946906928e-05, accuracy:0.6310000171661377\n",
      "Epoch 46, CIFAR-10 Batch 1:  loss:0.0012936829589307308, accuracy:0.6354000124931335\n",
      "Epoch 46, CIFAR-10 Batch 2:  loss:0.0006790893385186791, accuracy:0.6304000124931336\n",
      "Epoch 46, CIFAR-10 Batch 3:  loss:0.0012252364540472627, accuracy:0.6302000141143799\n",
      "Epoch 46, CIFAR-10 Batch 4:  loss:0.0007335018599405885, accuracy:0.6332000110149384\n",
      "Epoch 46, CIFAR-10 Batch 5:  loss:8.588669516029768e-06, accuracy:0.6356000168323517\n",
      "Epoch 47, CIFAR-10 Batch 1:  loss:0.0006854715174995363, accuracy:0.6290000114440918\n",
      "Epoch 47, CIFAR-10 Batch 2:  loss:0.0069166817702353, accuracy:0.6260000126361847\n",
      "Epoch 47, CIFAR-10 Batch 3:  loss:1.165266098723805e-06, accuracy:0.626400015115738\n",
      "Epoch 47, CIFAR-10 Batch 4:  loss:2.4275754185509868e-05, accuracy:0.6264000098705291\n",
      "Epoch 47, CIFAR-10 Batch 5:  loss:0.0002792089944705367, accuracy:0.6300000123977662\n",
      "Epoch 48, CIFAR-10 Batch 1:  loss:0.00025582106900401413, accuracy:0.6382000136375428\n",
      "Epoch 48, CIFAR-10 Batch 2:  loss:0.002401466481387615, accuracy:0.6380000128746033\n",
      "Epoch 48, CIFAR-10 Batch 3:  loss:0.0005804490065202117, accuracy:0.6292000117301941\n",
      "Epoch 48, CIFAR-10 Batch 4:  loss:0.00020609651983249933, accuracy:0.6304000144004822\n",
      "Epoch 48, CIFAR-10 Batch 5:  loss:0.0030439894180744886, accuracy:0.6380000145435333\n",
      "Epoch 49, CIFAR-10 Batch 1:  loss:0.00033112679375335574, accuracy:0.6354000179767608\n",
      "Epoch 49, CIFAR-10 Batch 2:  loss:9.246991794498172e-06, accuracy:0.6352000126838684\n",
      "Epoch 49, CIFAR-10 Batch 3:  loss:2.5751014618435875e-05, accuracy:0.6282000131607056\n",
      "Epoch 49, CIFAR-10 Batch 4:  loss:1.672919825068675e-05, accuracy:0.6150000083446503\n",
      "Epoch 49, CIFAR-10 Batch 5:  loss:0.0006543337367475033, accuracy:0.6288000154495239\n",
      "Epoch 50, CIFAR-10 Batch 1:  loss:7.074293534969911e-05, accuracy:0.6252000138759614\n",
      "Epoch 50, CIFAR-10 Batch 2:  loss:0.0001749571383697912, accuracy:0.6278000180721283\n",
      "Epoch 50, CIFAR-10 Batch 3:  loss:0.00027450593188405037, accuracy:0.6232000117301941\n",
      "Epoch 50, CIFAR-10 Batch 4:  loss:1.4913959603291005e-05, accuracy:0.6148000111579895\n",
      "Epoch 50, CIFAR-10 Batch 5:  loss:0.001025791629217565, accuracy:0.618200012922287\n"
     ]
    }
   ],
   "source": [
    "\"\"\"\n",
    "DON'T MODIFY ANYTHING IN THIS CELL\n",
    "\"\"\"\n",
    "save_model_path = './image_classification'\n",
    "\n",
    "print('Training...')\n",
    "with tf.Session() as sess:\n",
    "    # Initializing the variables\n",
    "    sess.run(tf.global_variables_initializer())\n",
    "    \n",
    "    # Training cycle\n",
    "    for epoch in range(epochs):\n",
    "        # Loop over all batches\n",
    "        n_batches = 5\n",
    "        for batch_i in range(1, n_batches + 1):\n",
    "            for batch_features, batch_labels in helper.load_preprocess_training_batch(batch_i, batch_size):\n",
    "                train_neural_network(sess, optimizer, keep_probability, batch_features, batch_labels)\n",
    "            print('Epoch {:>2}, CIFAR-10 Batch {}:  '.format(epoch + 1, batch_i), end='')\n",
    "            print_stats(sess, batch_features, batch_labels, cost, accuracy)\n",
    "            \n",
    "    # Save Model\n",
    "    saver = tf.train.Saver()\n",
    "    save_path = saver.save(sess, save_model_path)"
   ]
  },
  {
   "cell_type": "markdown",
   "metadata": {
    "deletable": true,
    "editable": true
   },
   "source": [
    "# Checkpoint\n",
    "The model has been saved to disk.\n",
    "## Test Model\n",
    "Test your model against the test dataset.  This will be your final accuracy. You should have an accuracy greater than 50%. If you don't, keep tweaking the model architecture and parameters."
   ]
  },
  {
   "cell_type": "code",
   "execution_count": 37,
   "metadata": {
    "collapsed": false,
    "deletable": true,
    "editable": true
   },
   "outputs": [
    {
     "name": "stdout",
     "output_type": "stream",
     "text": [
      "Testing Accuracy: 0.6198575949367089\n",
      "\n"
     ]
    },
    {
     "data": {
      "image/png": "[encoded data removed]",
      "text/plain": [
       "<matplotlib.figure.Figure at 0x7fa1d6bddef0>"
      ]
     },
     "metadata": {
      "image/png": {
       "height": 319,
       "width": 355
      }
     },
     "output_type": "display_data"
    }
   ],
   "source": [
    "\"\"\"\n",
    "DON'T MODIFY ANYTHING IN THIS CELL\n",
    "\"\"\"\n",
    "%matplotlib inline\n",
    "%config InlineBackend.figure_format = 'retina'\n",
    "\n",
    "import tensorflow as tf\n",
    "import pickle\n",
    "import helper\n",
    "import random\n",
    "\n",
    "# Set batch size if not already set\n",
    "try:\n",
    "    if batch_size:\n",
    "        pass\n",
    "except NameError:\n",
    "    batch_size = 64\n",
    "\n",
    "save_model_path = './image_classification'\n",
    "n_samples = 4\n",
    "top_n_predictions = 3\n",
    "\n",
    "def test_model():\n",
    "    \"\"\"\n",
    "    Test the saved model against the test dataset\n",
    "    \"\"\"\n",
    "\n",
    "    test_features, test_labels = pickle.load(open('preprocess_training.p', mode='rb'))\n",
    "    loaded_graph = tf.Graph()\n",
    "\n",
    "    with tf.Session(graph=loaded_graph) as sess:\n",
    "        # Load model\n",
    "        loader = tf.train.import_meta_graph(save_model_path + '.meta')\n",
    "        loader.restore(sess, save_model_path)\n",
    "\n",
    "        # Get Tensors from loaded model\n",
    "        loaded_x = loaded_graph.get_tensor_by_name('x:0')\n",
    "        loaded_y = loaded_graph.get_tensor_by_name('y:0')\n",
    "        loaded_keep_prob = loaded_graph.get_tensor_by_name('keep_prob:0')\n",
    "        loaded_logits = loaded_graph.get_tensor_by_name('logits:0')\n",
    "        loaded_acc = loaded_graph.get_tensor_by_name('accuracy:0')\n",
    "        \n",
    "        # Get accuracy in batches for memory limitations\n",
    "        test_batch_acc_total = 0\n",
    "        test_batch_count = 0\n",
    "        \n",
    "        for train_feature_batch, train_label_batch in helper.batch_features_labels(test_features, test_labels, batch_size):\n",
    "            test_batch_acc_total += sess.run(\n",
    "                loaded_acc,\n",
    "                feed_dict={loaded_x: train_feature_batch, loaded_y: train_label_batch, loaded_keep_prob: 1.0})\n",
    "            test_batch_count += 1\n",
    "\n",
    "        print('Testing Accuracy: {}\\n'.format(test_batch_acc_total/test_batch_count))\n",
    "\n",
    "        # Print Random Samples\n",
    "        random_test_features, random_test_labels = tuple(zip(*random.sample(list(zip(test_features, test_labels)), n_samples)))\n",
    "        random_test_predictions = sess.run(\n",
    "            tf.nn.top_k(tf.nn.softmax(loaded_logits), top_n_predictions),\n",
    "            feed_dict={loaded_x: random_test_features, loaded_y: random_test_labels, loaded_keep_prob: 1.0})\n",
    "        helper.display_image_predictions(random_test_features, random_test_labels, random_test_predictions)\n",
    "\n",
    "\n",
    "test_model()"
   ]
  },
  {
   "cell_type": "markdown",
   "metadata": {
    "deletable": true,
    "editable": true
   },
   "source": [
    "## Why 50-70% Accuracy?\n",
    "You might be wondering why you can't get an accuracy any higher. First things first, 50% isn't bad for a simple CNN.  Pure guessing would get you 10% accuracy. However, you might notice people are getting scores [well above 70%](http://rodrigob.github.io/are_we_there_yet/build/classification_datasets_results.html#43494641522d3130).  That's because we haven't taught you all there is to know about neural networks. We still need to cover a few more techniques.\n",
    "## Submitting This Project\n",
    "When submitting this project, make sure to run all the cells before saving the notebook.  Save the notebook file as \"dlnd_image_classification.ipynb\" and save it as a HTML file under \"File\" -> \"Download as\".  Include the \"helper.py\" and \"problem_unittests.py\" files in your submission."
   ]
  }
 ],
 "metadata": {
  "kernelspec": {
   "display_name": "Python 3",
   "language": "python",
   "name": "python3"
  },
  "language_info": {
   "codemirror_mode": {
    "name": "ipython",
    "version": 3
   },
   "file_extension": ".py",
   "mimetype": "text/x-python",
   "name": "python",
   "nbconvert_exporter": "python",
   "pygments_lexer": "ipython3",
   "version": "3.5.2"
  },
  "widgets": {
   "state": {},
   "version": "1.1.2"
  }
 },
 "nbformat": 4,
 "nbformat_minor": 0
}
